{
 "cells": [
  {
   "cell_type": "markdown",
   "metadata": {},
   "source": [
    "### Dataset basic operations"
   ]
  },
  {
   "cell_type": "code",
   "execution_count": null,
   "metadata": {},
   "outputs": [],
   "source": [
    "import sys\n",
    "import os\n",
    "import zipfile\n",
    "import json\n",
    "\n",
    "module_path = os.path.abspath(os.path.join('..'))\n",
    "if module_path not in sys.path:\n",
    "    sys.path.append(module_path)\n",
    "\n",
    "from src.articles import process_raw_article"
   ]
  },
  {
   "cell_type": "markdown",
   "metadata": {},
   "source": [
    "Setup the paths to data sources"
   ]
  },
  {
   "cell_type": "code",
   "execution_count": null,
   "metadata": {},
   "outputs": [],
   "source": [
    "ARCHIVE_FILENAME = \"WZ_Archiv_Demo.zip\"\n",
    "ARTICLES_RAW_DIR = os.path.join(\"..\", \"data\", \"articles_raw\")\n",
    "ARTICLES_CLEAN_DIR = os.path.join(\"..\", \"data\", \"articles_clean\")\n",
    "archive_path = os.path.join(\"..\", \"data\", \"archive\", ARCHIVE_FILENAME)"
   ]
  },
  {
   "cell_type": "markdown",
   "metadata": {},
   "source": [
    "Extract ZIP archive to raw JSONs"
   ]
  },
  {
   "cell_type": "code",
   "execution_count": null,
   "metadata": {},
   "outputs": [],
   "source": [
    "# Extract the archive to the articles directory\n",
    "with zipfile.ZipFile(archive_path, \"r\") as archive:\n",
    "    archive.extractall(ARTICLES_RAW_DIR)"
   ]
  },
  {
   "cell_type": "markdown",
   "metadata": {},
   "source": [
    "Clean the raw JSON to key content"
   ]
  },
  {
   "cell_type": "code",
   "execution_count": null,
   "metadata": {},
   "outputs": [],
   "source": [
    "if not os.path.exists(ARTICLES_CLEAN_DIR):\n",
    "    os.makedirs(ARTICLES_CLEAN_DIR)\n",
    "\n",
    "articles_raw = os.listdir(ARTICLES_RAW_DIR)\n",
    "\n",
    "for article_file in articles_raw:\n",
    "    \n",
    "    article_path = os.path.join(ARTICLES_RAW_DIR, article_file)\n",
    "    with open(article_path, \"r\", encoding=\"utf-8\") as file:\n",
    "        article = json.load(file)   \n",
    "        \n",
    "    article_clean = process_raw_article(article)\n",
    "    \n",
    "    with open(os.path.join(ARTICLES_CLEAN_DIR, article_file), \"w\", encoding=\"utf-8\") as file:\n",
    "        json.dump(article_clean, file, indent=4, ensure_ascii=False)"
   ]
  },
  {
   "cell_type": "markdown",
   "metadata": {},
   "source": [
    "Example of article"
   ]
  },
  {
   "cell_type": "code",
   "execution_count": null,
   "metadata": {},
   "outputs": [],
   "source": [
    "articles_clean = os.listdir(ARTICLES_CLEAN_DIR)\n",
    "sample_article = articles_clean[0]\n",
    "sample_article_path = os.path.join(ARTICLES_CLEAN_DIR, sample_article)\n",
    "\n",
    "with open(sample_article_path, \"r\", encoding=\"utf-8\") as file:\n",
    "    sample_article = json.load(file)\n",
    "\n",
    "for key, value in sample_article.items():\n",
    "    print(f\"{key}: {value} \\n\")"
   ]
  }
 ],
 "metadata": {
  "kernelspec": {
   "display_name": ".venv",
   "language": "python",
   "name": "python3"
  },
  "language_info": {
   "codemirror_mode": {
    "name": "ipython",
    "version": 3
   },
   "file_extension": ".py",
   "mimetype": "text/x-python",
   "name": "python",
   "nbconvert_exporter": "python",
   "pygments_lexer": "ipython3",
   "version": "3.13.1"
  }
 },
 "nbformat": 4,
 "nbformat_minor": 2
}
