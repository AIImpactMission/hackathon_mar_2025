{
 "cells": [
  {
   "cell_type": "markdown",
   "metadata": {},
   "source": [
    "### Dataset basic operations"
   ]
  },
  {
   "cell_type": "code",
   "execution_count": null,
   "metadata": {},
   "outputs": [],
   "source": [
    "import sys\n",
    "import os\n",
    "import zipfile\n",
    "import json\n",
    "from tqdm import tqdm\n",
    "from concurrent.futures import ThreadPoolExecutor, as_completed\n",
    "\n",
    "module_path = os.path.abspath(os.path.join('..'))\n",
    "if module_path not in sys.path:\n",
    "    sys.path.append(module_path)\n",
    "\n",
    "from src.articles import process_raw_article"
   ]
  },
  {
   "cell_type": "markdown",
   "metadata": {},
   "source": [
    "Setup the paths to data sources"
   ]
  },
  {
   "cell_type": "code",
   "execution_count": null,
   "metadata": {},
   "outputs": [],
   "source": [
    "ARCHIVE_FILENAME = \"2025_02_25_wienerzeitung_archiv.zip\"\n",
    "ARCHIVE_EXTRACT_DIR = os.path.join(\"..\", \"data\", \"articles_raw\")\n",
    "ARTICLES_CLEAN_DIR = os.path.join(\"..\", \"data\", \"articles_clean\")\n",
    "ARTICLES_RAW_DIR = os.path.join(\"..\", \"data\", \"articles_raw\", \"2025_02_25_wienerzeitung_archiv\", \"content\")\n",
    "archive_path = os.path.join(\"..\", \"data\", \"archive\", ARCHIVE_FILENAME)"
   ]
  },
  {
   "cell_type": "markdown",
   "metadata": {},
   "source": [
    "Extract ZIP archive to raw JSONs"
   ]
  },
  {
   "cell_type": "code",
   "execution_count": null,
   "metadata": {},
   "outputs": [],
   "source": [
    "# Extract the archive to the articles directory\n",
    "with zipfile.ZipFile(archive_path, \"r\") as archive:\n",
    "    archive.extractall(ARCHIVE_EXTRACT_DIR)"
   ]
  },
  {
   "cell_type": "code",
   "execution_count": null,
   "metadata": {},
   "outputs": [],
   "source": [
    "print(f\"Number of articles in archive: {len(os.listdir(ARTICLES_RAW_DIR))}\")"
   ]
  },
  {
   "cell_type": "markdown",
   "metadata": {},
   "source": [
    "Clean the raw JSON to key content"
   ]
  },
  {
   "cell_type": "code",
   "execution_count": null,
   "metadata": {},
   "outputs": [],
   "source": [
    "def process_article_file(article_file):\n",
    "    article_path = os.path.join(ARTICLES_RAW_DIR, article_file)\n",
    "    # Read the raw article\n",
    "    with open(article_path, \"r\", encoding=\"utf-8\") as file:\n",
    "        article = json.load(file)\n",
    "    \n",
    "    # Process the article\n",
    "    article_clean = process_raw_article(article)\n",
    "    \n",
    "    # Write the cleaned article\n",
    "    clean_path = os.path.join(ARTICLES_CLEAN_DIR, article_file)\n",
    "    with open(clean_path, \"w\", encoding=\"utf-8\") as file:\n",
    "        json.dump(article_clean, file, indent=4, ensure_ascii=False)\n",
    "    return article_file\n",
    "\n",
    "# Ensure the output directory exists\n",
    "if not os.path.exists(ARTICLES_CLEAN_DIR):\n",
    "    os.makedirs(ARTICLES_CLEAN_DIR)\n",
    "\n",
    "# List of raw article files\n",
    "articles_raw = os.listdir(ARTICLES_RAW_DIR)\n",
    "\n",
    "# Use ThreadPoolExecutor for concurrent processing\n",
    "with ThreadPoolExecutor(max_workers=8) as executor:\n",
    "    futures = {executor.submit(process_article_file, article_file): article_file for article_file in articles_raw}\n",
    "    \n",
    "    for future in tqdm(as_completed(futures), total=len(futures)):\n",
    "        try:\n",
    "            file_name = future.result()\n",
    "        except Exception as e:\n",
    "            print(f\"Error processing {futures[future]}: {e}\")\n"
   ]
  },
  {
   "cell_type": "markdown",
   "metadata": {},
   "source": [
    "Example of raw article"
   ]
  },
  {
   "cell_type": "code",
   "execution_count": null,
   "metadata": {},
   "outputs": [],
   "source": [
    "# Pick 1st article for showcase\n",
    "raw_article_path = os.path.join(ARTICLES_RAW_DIR, articles_raw[0])\n",
    "with open(raw_article_path, \"r\", encoding=\"utf-8\") as file:\n",
    "    raw_article = json.load(file)\n",
    "raw_article"
   ]
  },
  {
   "cell_type": "markdown",
   "metadata": {},
   "source": [
    "Example of cleaned article"
   ]
  },
  {
   "cell_type": "code",
   "execution_count": null,
   "metadata": {},
   "outputs": [],
   "source": [
    "articles_clean = os.listdir(ARTICLES_CLEAN_DIR)\n",
    "sample_article = articles_clean[0]\n",
    "sample_article_path = os.path.join(ARTICLES_CLEAN_DIR, sample_article)\n",
    "\n",
    "with open(sample_article_path, \"r\", encoding=\"utf-8\") as file:\n",
    "    sample_article = json.load(file)\n",
    "\n",
    "for key, value in sample_article.items():\n",
    "    print(f\"{key}: {value} \\n\")"
   ]
  }
 ],
 "metadata": {
  "kernelspec": {
   "display_name": ".venv",
   "language": "python",
   "name": "python3"
  },
  "language_info": {
   "codemirror_mode": {
    "name": "ipython",
    "version": 3
   },
   "file_extension": ".py",
   "mimetype": "text/x-python",
   "name": "python",
   "nbconvert_exporter": "python",
   "pygments_lexer": "ipython3",
   "version": "3.13.1"
  }
 },
 "nbformat": 4,
 "nbformat_minor": 2
}
