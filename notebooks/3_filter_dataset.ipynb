{
 "cells": [
  {
   "cell_type": "markdown",
   "metadata": {},
   "source": [
    "# Filtering the dataset\n",
    "\n",
    "Create a small subset of full data"
   ]
  },
  {
   "cell_type": "code",
   "execution_count": null,
   "metadata": {
    "ExecuteTime": {
     "end_time": "2025-03-21T10:20:15.253326Z",
     "start_time": "2025-03-21T10:20:14.548187Z"
    }
   },
   "outputs": [],
   "source": [
    "import sys\n",
    "import os\n",
    "import pandas as pd\n",
    "import json\n",
    "\n",
    "module_path = os.path.abspath(os.path.join('..'))\n",
    "if module_path not in sys.path:\n",
    "    sys.path.append(module_path)"
   ]
  },
  {
   "cell_type": "code",
   "execution_count": null,
   "metadata": {
    "ExecuteTime": {
     "end_time": "2025-03-21T11:14:05.835687Z",
     "start_time": "2025-03-21T11:14:05.816291Z"
    }
   },
   "outputs": [],
   "source": [
    "METADATA_PATH = os.path.join(\"..\", \"data\", \"metadata.csv\")\n",
    "ARTICLES_CLEAN_DIR = os.path.join(\"..\", \"data\", \"articles_clean\")\n",
    "\n",
    "FILTERED_METADATA_PATH = os.path.join(\"..\", \"data\", \"filtered_metadata.csv\")"
   ]
  },
  {
   "cell_type": "markdown",
   "metadata": {},
   "source": [
    "Available metadata fields"
   ]
  },
  {
   "cell_type": "code",
   "execution_count": null,
   "metadata": {
    "ExecuteTime": {
     "end_time": "2025-03-21T10:20:35.383993Z",
     "start_time": "2025-03-21T10:20:34.880742Z"
    }
   },
   "outputs": [],
   "source": [
    "metadata = pd.read_csv(METADATA_PATH)\n",
    "metadata[\"published_at\"] = pd.to_datetime(metadata[\"published_at\"])\n",
    "metadata.head()"
   ]
  },
  {
   "cell_type": "markdown",
   "metadata": {},
   "source": [
    "Analysis"
   ]
  },
  {
   "cell_type": "code",
   "execution_count": null,
   "metadata": {
    "ExecuteTime": {
     "end_time": "2025-03-21T14:14:30.074494Z",
     "start_time": "2025-03-21T14:14:30.014397Z"
    }
   },
   "outputs": [],
   "source": [
    "metadata[\"published_at\"].describe()"
   ]
  },
  {
   "cell_type": "code",
   "execution_count": null,
   "metadata": {},
   "outputs": [],
   "source": [
    "metadata[\"category\"].describe()"
   ]
  },
  {
   "cell_type": "code",
   "execution_count": null,
   "metadata": {},
   "outputs": [],
   "source": [
    "metadata[\"category\"].value_counts()  # 47 different categories"
   ]
  },
  {
   "cell_type": "code",
   "execution_count": null,
   "metadata": {
    "ExecuteTime": {
     "end_time": "2025-03-21T10:50:09.752057Z",
     "start_time": "2025-03-21T10:50:09.737767Z"
    }
   },
   "outputs": [],
   "source": [
    "metadata[\"section\"].value_counts()"
   ]
  },
  {
   "cell_type": "code",
   "execution_count": null,
   "metadata": {
    "ExecuteTime": {
     "end_time": "2025-03-21T10:50:10.010618Z",
     "start_time": "2025-03-21T10:50:09.996801Z"
    }
   },
   "outputs": [],
   "source": [
    "metadata[\"word_count\"].describe()"
   ]
  },
  {
   "cell_type": "code",
   "execution_count": null,
   "metadata": {
    "ExecuteTime": {
     "end_time": "2025-03-21T10:50:13.464584Z",
     "start_time": "2025-03-21T10:50:13.451549Z"
    }
   },
   "outputs": [],
   "source": [
    "# Missing data\n",
    "metadata[\"author\"].isnull().sum()"
   ]
  },
  {
   "cell_type": "markdown",
   "metadata": {},
   "source": [
    "Filter the metadata df according to your needs\n",
    "\n",
    "Hint: Try to not make the dataset too big for processing reasons (try around to get a feeling what your machine can handle)"
   ]
  },
  {
   "cell_type": "code",
   "execution_count": null,
   "metadata": {
    "ExecuteTime": {
     "end_time": "2025-03-21T11:16:26.310049Z",
     "start_time": "2025-03-21T11:16:26.299497Z"
    }
   },
   "outputs": [],
   "source": [
    "filtered_metadata = metadata[\n",
    "    # Date\n",
    "    (metadata[\"published_at\"] >= \"2007-01-01\") &\n",
    "    (metadata[\"published_at\"] < \"2012-01-01\") &\n",
    "\n",
    "    # Authors\n",
    "    # (metadata[\"author\"].isin([\"Christine Zeiner\", \"Silke Farmer\"])) &\n",
    "\n",
    "    # Category\n",
    "    # (metadata[\"section\"].isin([\"Politik\", \"Wirtschaft\"])) &  # ('Politik', 'Wirtschaft', 'Kommentare', 'Gastkommentare', 'Wissen', see above for all categories)\n",
    "\n",
    "    # Section\n",
    "    # (metadata[\"section\"].isin([\"Nachrichten\", \"Meinung\"])) &  # ('Meinung', 'Nachrichten', 'Archiv', 'Themen', 'Dossiers')\n",
    "\n",
    "    # Word count\n",
    "    # (metadata[\"word_count\"] >= 100) &\n",
    "\n",
    "    # Tags\n",
    "    (metadata[\"valid_indicator\"]) &  # this is an estimate if the probabilities assigned to the category are actually valid, recommended to use but will reduce the dataset size\n",
    "    (metadata[\"financial_crisis\"] > 0.8) # ('financial_crisis', 'sustainability', 'fake_news', 'ai', 'digitalization', 'local_journalism', 'covid', 'demographics', 'innovation')\n",
    "]\n",
    "print(f\"Expected number of articles: {filtered_metadata.shape[0]}\")"
   ]
  },
  {
   "cell_type": "markdown",
   "metadata": {},
   "source": [
    "Get filtered articles"
   ]
  },
  {
   "cell_type": "code",
   "execution_count": null,
   "metadata": {
    "ExecuteTime": {
     "end_time": "2025-03-21T11:04:13.663091Z",
     "start_time": "2025-03-21T11:04:13.650355Z"
    }
   },
   "outputs": [],
   "source": [
    "def filter_articles(filtered_metadata, articles_dir):\n",
    "    \"\"\"\n",
    "    Filter articles based on filtered metadata\n",
    "    \"\"\"\n",
    "    articles = {}\n",
    "    for _, row in filtered_metadata.iterrows():\n",
    "        article_path = os.path.join(articles_dir, row[\"filename\"])\n",
    "        with open(article_path, \"r\", encoding=\"utf-8\") as file:\n",
    "            article = json.load(file)\n",
    "            articles[row[\"filename\"]] = article\n",
    "    return articles"
   ]
  },
  {
   "cell_type": "code",
   "execution_count": null,
   "metadata": {},
   "outputs": [],
   "source": [
    "filtered_articles = filter_articles(filtered_metadata, ARTICLES_CLEAN_DIR)"
   ]
  },
  {
   "cell_type": "code",
   "execution_count": null,
   "metadata": {
    "ExecuteTime": {
     "end_time": "2025-03-21T11:19:20.283385Z",
     "start_time": "2025-03-21T11:19:20.271460Z"
    }
   },
   "outputs": [],
   "source": [
    "# Check some articles from that sample\n",
    "sample_id = 0\n",
    "\n",
    "print(f\"Number of articles: {len(filtered_articles)}\\n\")\n",
    "print(f\"Sample article metadata:\\n {filtered_metadata.iloc[sample_id]}\\n\")\n",
    "print(f\"Sample article:\\n {filtered_articles[list(filtered_articles.keys())[sample_id]]}\")"
   ]
  },
  {
   "cell_type": "code",
   "execution_count": null,
   "metadata": {
    "ExecuteTime": {
     "end_time": "2025-03-21T11:19:38.698367Z",
     "start_time": "2025-03-21T11:19:35.837879Z"
    }
   },
   "outputs": [],
   "source": [
    "# Store the filtered metadata to csv\n",
    "if input(\"Do you want to store (overwrite) the filtered metadata to csv? (y/n): \") == \"y\":\n",
    "    filtered_metadata.to_csv(FILTERED_METADATA_PATH, index=False)"
   ]
  }
 ],
 "metadata": {
  "kernelspec": {
   "display_name": ".venv",
   "language": "python",
   "name": "python3"
  },
  "language_info": {
   "codemirror_mode": {
    "name": "ipython",
    "version": 3
   },
   "file_extension": ".py",
   "mimetype": "text/x-python",
   "name": "python",
   "nbconvert_exporter": "python",
   "pygments_lexer": "ipython3",
   "version": "3.13.1"
  }
 },
 "nbformat": 4,
 "nbformat_minor": 2
}
