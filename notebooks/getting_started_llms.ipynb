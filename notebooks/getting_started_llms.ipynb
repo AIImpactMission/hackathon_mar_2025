{
 "cells": [
  {
   "cell_type": "markdown",
   "metadata": {},
   "source": [
    "# Getting started with LLMs and RAG\n",
    "\n",
    "Note: First create a filtered dataset with `filter-dataset.ipynb`"
   ]
  },
  {
   "cell_type": "code",
   "metadata": {
    "ExecuteTime": {
     "end_time": "2025-03-21T11:12:28.784978Z",
     "start_time": "2025-03-21T11:12:28.772943Z"
    }
   },
   "source": [
    "import sys\n",
    "import os\n",
    "import pandas as pd\n",
    "import json\n",
    "from dotenv import load_dotenv\n",
    "import tiktoken\n",
    "import pickle\n",
    "\n",
    "from langchain_core.documents import Document\n",
    "from langchain.text_splitter import RecursiveCharacterTextSplitter\n",
    "from langchain_core.rate_limiters import InMemoryRateLimiter\n",
    "\n",
    "from langchain.vectorstores import FAISS\n",
    "from langchain.prompts import PromptTemplate\n",
    "from langchain.chains import RetrievalQA\n",
    "\n",
    "module_path = os.path.abspath(os.path.join('..'))\n",
    "if module_path not in sys.path:\n",
    "    sys.path.append(module_path)\n",
    "\n",
    "from src.llm import get_azure_embeddings_client, get_llm_client, get_gemini_llm_client\n",
    "\n",
    "if not load_dotenv():\n",
    "    raise Exception('Error loading .env file. Make sure to place valid keys in the .env file.')"
   ],
   "outputs": [],
   "execution_count": 5
  },
  {
   "cell_type": "code",
   "metadata": {
    "ExecuteTime": {
     "end_time": "2025-03-21T11:14:35.644042Z",
     "start_time": "2025-03-21T11:14:35.632207Z"
    }
   },
   "source": [
    "ARTICLES_CLEAN_DIR = os.path.join(\"..\", \"data\", \"articles_clean\")\n",
    "FILTERED_METADATA_PATH = os.path.join(\"..\", \"data\", \"filtered_metadata.csv\")\n",
    "DB_PATH = os.path.join(\"..\", \"data\", \"db\", \"sample.db\")\n",
    "\n",
    "if not os.path.exists(DB_PATH):\n",
    "    os.makedirs(os.path.dirname(DB_PATH), exist_ok=True)"
   ],
   "outputs": [],
   "execution_count": 9
  },
  {
   "metadata": {
    "ExecuteTime": {
     "end_time": "2025-03-21T11:15:00.943850Z",
     "start_time": "2025-03-21T11:15:00.903439Z"
    }
   },
   "cell_type": "code",
   "source": [
    "filtered_metadata = pd.read_csv(FILTERED_METADATA_PATH)\n",
    "filtered_metadata.head(5)"
   ],
   "outputs": [
    {
     "data": {
      "text/plain": [
       "                                     id  \\\n",
       "0  fd343f2b-736d-4c86-920d-35fc4e3b4a2e   \n",
       "1  4f35eda4-d8c9-41da-86cf-acde392daced   \n",
       "2  b0ce07cb-c2da-4dca-be7a-d70640aa0750   \n",
       "3  946db10f-cc14-4a60-8319-d95e5f400981   \n",
       "4  e05e0904-00d2-4a1d-8d8a-7e14cde30aa7   \n",
       "\n",
       "                                            filename         published_at  \\\n",
       "0                         die-gotter-des-geldes.json  2011-05-10 18:31:00   \n",
       "1                     justiz-und-ewige-skandale.json  2009-10-16 19:29:00   \n",
       "2  saubermacher-sagt-borsegang-ab-wien-sucht-eine...  2008-01-30 18:43:00   \n",
       "3                        wann-ist-land-in-sicht.json  2010-05-21 19:34:00   \n",
       "4                         yen-gerat-unter-druck.json  2011-03-14 09:39:00   \n",
       "\n",
       "               author                                              title  \\\n",
       "0     Reinhard Göweil                              Die Götter des Geldes   \n",
       "1         Peter Muzik                          Justiz und ewige Skandale   \n",
       "2  Rosa Eder-Kornfeld  Saubermacher sagt Börsegang ab - Wien sucht ei...   \n",
       "3         Petra Medek                            Wann ist Land in Sicht?   \n",
       "4           WZ Online                              Yen gerät unter Druck   \n",
       "\n",
       "      category      section  word_count  financial_crisis  sustainability  \\\n",
       "0  Leitartikel      Meinung         326            0.8968          0.6328   \n",
       "1   Kommentare      Meinung         235            0.8105          0.1628   \n",
       "2     Analysen       Archiv         260            0.8644          0.4094   \n",
       "3   Kommentare      Meinung         185            0.8254          0.3482   \n",
       "4   Wirtschaft  Nachrichten         171            0.8052          0.5291   \n",
       "\n",
       "   fake_news      ai  digitalization  local_journalism   covid  demographics  \\\n",
       "0     0.4778  0.5007          0.3510            0.3519  0.5301        0.5913   \n",
       "1     0.0716  0.0692          0.0364            0.0590  0.0972        0.0809   \n",
       "2     0.2481  0.2804          0.3053            0.2731  0.2425        0.3708   \n",
       "3     0.0898  0.1104          0.0169            0.1150  0.2387        0.1897   \n",
       "4     0.3415  0.4253          0.3760            0.5516  0.3966        0.5528   \n",
       "\n",
       "   innovation  valid_indicator  \n",
       "0      0.2105             True  \n",
       "1      0.0558             True  \n",
       "2      0.2866             True  \n",
       "3      0.0183             True  \n",
       "4      0.3544             True  "
      ],
      "text/html": [
       "<div>\n",
       "<style scoped>\n",
       "    .dataframe tbody tr th:only-of-type {\n",
       "        vertical-align: middle;\n",
       "    }\n",
       "\n",
       "    .dataframe tbody tr th {\n",
       "        vertical-align: top;\n",
       "    }\n",
       "\n",
       "    .dataframe thead th {\n",
       "        text-align: right;\n",
       "    }\n",
       "</style>\n",
       "<table border=\"1\" class=\"dataframe\">\n",
       "  <thead>\n",
       "    <tr style=\"text-align: right;\">\n",
       "      <th></th>\n",
       "      <th>id</th>\n",
       "      <th>filename</th>\n",
       "      <th>published_at</th>\n",
       "      <th>author</th>\n",
       "      <th>title</th>\n",
       "      <th>category</th>\n",
       "      <th>section</th>\n",
       "      <th>word_count</th>\n",
       "      <th>financial_crisis</th>\n",
       "      <th>sustainability</th>\n",
       "      <th>fake_news</th>\n",
       "      <th>ai</th>\n",
       "      <th>digitalization</th>\n",
       "      <th>local_journalism</th>\n",
       "      <th>covid</th>\n",
       "      <th>demographics</th>\n",
       "      <th>innovation</th>\n",
       "      <th>valid_indicator</th>\n",
       "    </tr>\n",
       "  </thead>\n",
       "  <tbody>\n",
       "    <tr>\n",
       "      <th>0</th>\n",
       "      <td>fd343f2b-736d-4c86-920d-35fc4e3b4a2e</td>\n",
       "      <td>die-gotter-des-geldes.json</td>\n",
       "      <td>2011-05-10 18:31:00</td>\n",
       "      <td>Reinhard Göweil</td>\n",
       "      <td>Die Götter des Geldes</td>\n",
       "      <td>Leitartikel</td>\n",
       "      <td>Meinung</td>\n",
       "      <td>326</td>\n",
       "      <td>0.8968</td>\n",
       "      <td>0.6328</td>\n",
       "      <td>0.4778</td>\n",
       "      <td>0.5007</td>\n",
       "      <td>0.3510</td>\n",
       "      <td>0.3519</td>\n",
       "      <td>0.5301</td>\n",
       "      <td>0.5913</td>\n",
       "      <td>0.2105</td>\n",
       "      <td>True</td>\n",
       "    </tr>\n",
       "    <tr>\n",
       "      <th>1</th>\n",
       "      <td>4f35eda4-d8c9-41da-86cf-acde392daced</td>\n",
       "      <td>justiz-und-ewige-skandale.json</td>\n",
       "      <td>2009-10-16 19:29:00</td>\n",
       "      <td>Peter Muzik</td>\n",
       "      <td>Justiz und ewige Skandale</td>\n",
       "      <td>Kommentare</td>\n",
       "      <td>Meinung</td>\n",
       "      <td>235</td>\n",
       "      <td>0.8105</td>\n",
       "      <td>0.1628</td>\n",
       "      <td>0.0716</td>\n",
       "      <td>0.0692</td>\n",
       "      <td>0.0364</td>\n",
       "      <td>0.0590</td>\n",
       "      <td>0.0972</td>\n",
       "      <td>0.0809</td>\n",
       "      <td>0.0558</td>\n",
       "      <td>True</td>\n",
       "    </tr>\n",
       "    <tr>\n",
       "      <th>2</th>\n",
       "      <td>b0ce07cb-c2da-4dca-be7a-d70640aa0750</td>\n",
       "      <td>saubermacher-sagt-borsegang-ab-wien-sucht-eine...</td>\n",
       "      <td>2008-01-30 18:43:00</td>\n",
       "      <td>Rosa Eder-Kornfeld</td>\n",
       "      <td>Saubermacher sagt Börsegang ab - Wien sucht ei...</td>\n",
       "      <td>Analysen</td>\n",
       "      <td>Archiv</td>\n",
       "      <td>260</td>\n",
       "      <td>0.8644</td>\n",
       "      <td>0.4094</td>\n",
       "      <td>0.2481</td>\n",
       "      <td>0.2804</td>\n",
       "      <td>0.3053</td>\n",
       "      <td>0.2731</td>\n",
       "      <td>0.2425</td>\n",
       "      <td>0.3708</td>\n",
       "      <td>0.2866</td>\n",
       "      <td>True</td>\n",
       "    </tr>\n",
       "    <tr>\n",
       "      <th>3</th>\n",
       "      <td>946db10f-cc14-4a60-8319-d95e5f400981</td>\n",
       "      <td>wann-ist-land-in-sicht.json</td>\n",
       "      <td>2010-05-21 19:34:00</td>\n",
       "      <td>Petra Medek</td>\n",
       "      <td>Wann ist Land in Sicht?</td>\n",
       "      <td>Kommentare</td>\n",
       "      <td>Meinung</td>\n",
       "      <td>185</td>\n",
       "      <td>0.8254</td>\n",
       "      <td>0.3482</td>\n",
       "      <td>0.0898</td>\n",
       "      <td>0.1104</td>\n",
       "      <td>0.0169</td>\n",
       "      <td>0.1150</td>\n",
       "      <td>0.2387</td>\n",
       "      <td>0.1897</td>\n",
       "      <td>0.0183</td>\n",
       "      <td>True</td>\n",
       "    </tr>\n",
       "    <tr>\n",
       "      <th>4</th>\n",
       "      <td>e05e0904-00d2-4a1d-8d8a-7e14cde30aa7</td>\n",
       "      <td>yen-gerat-unter-druck.json</td>\n",
       "      <td>2011-03-14 09:39:00</td>\n",
       "      <td>WZ Online</td>\n",
       "      <td>Yen gerät unter Druck</td>\n",
       "      <td>Wirtschaft</td>\n",
       "      <td>Nachrichten</td>\n",
       "      <td>171</td>\n",
       "      <td>0.8052</td>\n",
       "      <td>0.5291</td>\n",
       "      <td>0.3415</td>\n",
       "      <td>0.4253</td>\n",
       "      <td>0.3760</td>\n",
       "      <td>0.5516</td>\n",
       "      <td>0.3966</td>\n",
       "      <td>0.5528</td>\n",
       "      <td>0.3544</td>\n",
       "      <td>True</td>\n",
       "    </tr>\n",
       "  </tbody>\n",
       "</table>\n",
       "</div>"
      ]
     },
     "execution_count": 10,
     "metadata": {},
     "output_type": "execute_result"
    }
   ],
   "execution_count": 10
  },
  {
   "cell_type": "markdown",
   "metadata": {},
   "source": [
    "Create simple vector database"
   ]
  },
  {
   "cell_type": "code",
   "execution_count": null,
   "metadata": {},
   "outputs": [],
   "source": [
    "def get_documents_from_path(filenames: list[str]) -> [Document]:\n",
    "    documents = []\n",
    "    \n",
    "    for file_name in filenames:\n",
    "        file_path = os.path.join(ARTICLES_CLEAN_DIR, file_name)\n",
    "        with open(file_path, \"r\", encoding=\"utf-8\") as file:\n",
    "            file = json.load(file)\n",
    "\n",
    "        text = file.get(\"text\", \"\")\n",
    "        documents.append(Document(page_content=text, metadata={\n",
    "            \"title\": file.get(\"title\", \"\"),\n",
    "            \"author\": file.get(\"author\", \"\"),\n",
    "            \"published_at\": file.get(\"published_at\", \"\"),\n",
    "            \"id\": file.get(\"id\", \"\"),\n",
    "        }))\n",
    "\n",
    "    return documents"
   ]
  },
  {
   "cell_type": "code",
   "execution_count": null,
   "metadata": {},
   "outputs": [],
   "source": "documents = get_documents_from_path(filtered_metadata[\"filename\"])"
  },
  {
   "cell_type": "code",
   "execution_count": null,
   "metadata": {},
   "outputs": [],
   "source": [
    "# Create database\n",
    "text_splitter = RecursiveCharacterTextSplitter(chunk_size=1024, separators=[\"\\n\\n\", \"\\n\"])\n",
    "\n",
    "# Split documents and create vector database\n",
    "texts = text_splitter.split_documents(documents)\n",
    "embeddings = get_azure_embeddings_client()"
   ]
  },
  {
   "cell_type": "code",
   "execution_count": null,
   "metadata": {},
   "outputs": [],
   "source": [
    "db = FAISS.from_documents(texts, embeddings)"
   ]
  },
  {
   "cell_type": "code",
   "execution_count": null,
   "metadata": {},
   "outputs": [],
   "source": [
    "# Count build embedding token number\n",
    "tokenizer = tiktoken.get_encoding(\"cl100k_base\")\n",
    "build_token_count = sum([len(tokenizer.encode(doc.page_content)) for doc in texts])\n",
    "print(f\"Token count: {build_token_count}\")"
   ]
  },
  {
   "cell_type": "code",
   "execution_count": null,
   "metadata": {},
   "outputs": [],
   "source": [
    "# Store the database\n",
    "with open(DB_PATH, \"wb\") as f:\n",
    "    pickle.dump(db.serialize_to_bytes(), f)"
   ]
  },
  {
   "cell_type": "markdown",
   "metadata": {},
   "source": [
    "Create simple RAG"
   ]
  },
  {
   "cell_type": "code",
   "execution_count": null,
   "metadata": {},
   "outputs": [],
   "source": [
    "# TODO: swap to openrouter\n",
    "# Load the LLM\n",
    "rate_limiter = InMemoryRateLimiter(\n",
    "    requests_per_second=0.5,  # <-- Gemini Free Tier\n",
    "    check_every_n_seconds=0.1,\n",
    ")\n",
    "\n",
    "llm = get_gemini_llm_client(\n",
    "    max_tokens=1024,\n",
    "    temperature=0.2,\n",
    "    rate_limiter=rate_limiter,\n",
    ")"
   ]
  },
  {
   "cell_type": "code",
   "execution_count": null,
   "metadata": {},
   "outputs": [],
   "source": [
    "system_prompt = \"\"\"\n",
    "You are an expert assistant. Use only the following retrieved context to answer the question accurately and concisely. \n",
    "If nothing is mentioned in the context, say \"I don't know\".\n",
    "Context: {context}\n",
    "Question: {question}\n",
    "\"\"\"\n",
    "\n",
    "prompt_template = PromptTemplate(\n",
    "    input_variables=[\"context\", \"question\"], \n",
    "    template=system_prompt\n",
    ")\n",
    "\n",
    "retrieval_chain = RetrievalQA.from_chain_type(\n",
    "    llm=llm,\n",
    "    retriever=db.as_retriever(),\n",
    "    return_source_documents=True,\n",
    "    chain_type_kwargs={\"prompt\": prompt_template}\n",
    ")"
   ]
  },
  {
   "cell_type": "code",
   "execution_count": null,
   "metadata": {},
   "outputs": [],
   "source": [
    "def ask_question(query):\n",
    "    response = retrieval_chain.invoke({\"query\": query})\n",
    "    print(f\"Question: {query}\\nAnswer: {response['result']}\")\n",
    "    print(\"\\nSources: \\n\")\n",
    "    for source in response[\"source_documents\"]:\n",
    "        print(source.metadata)\n",
    "    return response"
   ]
  },
  {
   "cell_type": "code",
   "execution_count": null,
   "metadata": {},
   "outputs": [],
   "source": [
    "response = ask_question(\"What are the current economic threats in Austria?\")"
   ]
  }
 ],
 "metadata": {
  "kernelspec": {
   "display_name": ".venv",
   "language": "python",
   "name": "python3"
  },
  "language_info": {
   "codemirror_mode": {
    "name": "ipython",
    "version": 3
   },
   "file_extension": ".py",
   "mimetype": "text/x-python",
   "name": "python",
   "nbconvert_exporter": "python",
   "pygments_lexer": "ipython3",
   "version": "3.13.1"
  }
 },
 "nbformat": 4,
 "nbformat_minor": 2
}
