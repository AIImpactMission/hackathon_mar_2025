{
 "cells": [
  {
   "cell_type": "markdown",
   "metadata": {},
   "source": [
    "### Metadata source"
   ]
  },
  {
   "cell_type": "code",
   "execution_count": null,
   "metadata": {},
   "outputs": [],
   "source": [
    "import sys\n",
    "import os\n",
    "import pandas as pd\n",
    "import json\n",
    "from tqdm import tqdm\n",
    "from dotenv import load_dotenv\n",
    "from pydantic import BaseModel\n",
    "from concurrent.futures import ThreadPoolExecutor, as_completed\n",
    "from langchain_core.rate_limiters import InMemoryRateLimiter\n",
    "\n",
    "module_path = os.path.abspath(os.path.join('..'))\n",
    "if module_path not in sys.path:\n",
    "    sys.path.append(module_path)\n",
    "\n",
    "from src.articles import create_static_metadata\n",
    "from src.llm import get_llm_client\n",
    "from src.prompts import get_metadata_prompt\n",
    "\n",
    "if not load_dotenv():\n",
    "    raise Exception('Error loading .env file. Make sure to place a valid OPEN_AI_KEY in the .env file.')"
   ]
  },
  {
   "cell_type": "code",
   "execution_count": null,
   "metadata": {},
   "outputs": [],
   "source": [
    "rate_limiter = InMemoryRateLimiter(\n",
    "    requests_per_second=0.5,  # <-- Gemini Free Tier\n",
    "    check_every_n_seconds=0.1,\n",
    ")\n",
    "\n",
    "llm_client = get_llm_client(\n",
    "    base_url=\"https://generativelanguage.googleapis.com/v1beta/openai/\",\n",
    "    max_tokens=1024,\n",
    "    temperature=0.2,\n",
    "    rate_limiter=rate_limiter,\n",
    ")"
   ]
  },
  {
   "cell_type": "markdown",
   "metadata": {},
   "source": [
    "Setup the paths to data sources"
   ]
  },
  {
   "cell_type": "code",
   "execution_count": null,
   "metadata": {},
   "outputs": [],
   "source": [
    "ARTICLES_CLEAN_DIR = os.path.join(\"..\", \"data\", \"articles_clean\")\n",
    "METADATA_PATH = os.path.join(\"..\", \"data\", \"metadata.csv\")"
   ]
  },
  {
   "cell_type": "markdown",
   "metadata": {},
   "source": [
    "Extract metadata"
   ]
  },
  {
   "cell_type": "code",
   "execution_count": null,
   "metadata": {},
   "outputs": [],
   "source": [
    "class ArticleTags(BaseModel):\n",
    "    tags: list[str]"
   ]
  },
  {
   "cell_type": "code",
   "execution_count": null,
   "metadata": {},
   "outputs": [],
   "source": [
    "def process_article(filename, with_tags=False):\n",
    "    article_path = os.path.join(ARTICLES_CLEAN_DIR, filename)\n",
    "    with open(article_path, \"r\", encoding=\"utf-8\") as file:\n",
    "        article = json.load(file)\n",
    "    \n",
    "    # Create static metadata for the article\n",
    "    article_metadata = create_static_metadata(article, filename)\n",
    "    \n",
    "    if with_tags:\n",
    "        # Prepare the prompt for the LLM using the article's text\n",
    "        tags_prompt = get_metadata_prompt()\n",
    "        query = tags_prompt.format(article_text=article[\"text\"])\n",
    "        \n",
    "        # Invoke the LLM with structured output to extract tags\n",
    "        llm = llm_client.with_structured_output(ArticleTags)\n",
    "        response = llm.invoke([query])\n",
    "        tags = response.tags\n",
    "    else:\n",
    "        tags = []\n",
    "    \n",
    "    article_metadata[\"tags\"] = tags\n",
    "    return article_metadata"
   ]
  },
  {
   "cell_type": "code",
   "execution_count": null,
   "metadata": {},
   "outputs": [],
   "source": [
    "# List all cleaned article files\n",
    "articles = os.listdir(ARTICLES_CLEAN_DIR)\n",
    "metadata = []\n",
    "\n",
    "# Adjust the max_workers based on your LLM rate limits and available resources\n",
    "with ThreadPoolExecutor(max_workers=8) as executor:\n",
    "    futures = {executor.submit(process_article, filename, with_tags=False): filename for filename in articles}\n",
    "    for future in tqdm(as_completed(futures), total=len(futures)):\n",
    "        try:\n",
    "            result = future.result()\n",
    "            metadata.append(result)\n",
    "        except Exception as e:\n",
    "            print(f\"Error processing file {futures[future]}: {e}\")\n",
    "\n",
    "\n",
    "df_metadata = pd.DataFrame(metadata)\n",
    "df_metadata.to_csv(METADATA_PATH, index=False)"
   ]
  },
  {
   "cell_type": "code",
   "execution_count": null,
   "metadata": {},
   "outputs": [],
   "source": [
    "# Articles length statistics\n",
    "df_metadata[\"words_count\"].describe()"
   ]
  },
  {
   "cell_type": "markdown",
   "metadata": {},
   "source": [
    "Categories by WZ"
   ]
  },
  {
   "cell_type": "code",
   "execution_count": null,
   "metadata": {},
   "outputs": [],
   "source": [
    "df_metadata[\"category\"].describe()"
   ]
  },
  {
   "cell_type": "code",
   "execution_count": null,
   "metadata": {},
   "outputs": [],
   "source": [
    "df_metadata[\"category\"].value_counts()"
   ]
  },
  {
   "cell_type": "code",
   "execution_count": null,
   "metadata": {},
   "outputs": [],
   "source": [
    "# Tags statistics (only available if with_tags=True)\n",
    "df_metadata.explode(\"tags\")[\"tags\"].value_counts()"
   ]
  },
  {
   "cell_type": "code",
   "execution_count": null,
   "metadata": {},
   "outputs": [],
   "source": [
    "# Missing authors\n",
    "df_metadata[\"author\"].isnull().sum()"
   ]
  },
  {
   "cell_type": "markdown",
   "metadata": {},
   "source": [
    "Metadata df"
   ]
  },
  {
   "cell_type": "code",
   "execution_count": null,
   "metadata": {},
   "outputs": [],
   "source": [
    "df_metadata.head(5)"
   ]
  }
 ],
 "metadata": {
  "kernelspec": {
   "display_name": ".venv",
   "language": "python",
   "name": "python3"
  },
  "language_info": {
   "codemirror_mode": {
    "name": "ipython",
    "version": 3
   },
   "file_extension": ".py",
   "mimetype": "text/x-python",
   "name": "python",
   "nbconvert_exporter": "python",
   "pygments_lexer": "ipython3",
   "version": "3.13.1"
  }
 },
 "nbformat": 4,
 "nbformat_minor": 2
}
