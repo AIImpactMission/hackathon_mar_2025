{
 "cells": [
  {
   "cell_type": "markdown",
   "metadata": {},
   "source": [
    "### Metadata source"
   ]
  },
  {
   "cell_type": "code",
   "execution_count": 2,
   "metadata": {
    "ExecuteTime": {
     "end_time": "2025-03-18T22:10:44.341053Z",
     "start_time": "2025-03-18T22:10:44.335456Z"
    }
   },
   "outputs": [],
   "source": [
    "import sys\n",
    "import os\n",
    "import pandas as pd\n",
    "import json\n",
    "from tqdm import tqdm\n",
    "from dotenv import load_dotenv\n",
    "from pydantic import BaseModel\n",
    "from concurrent.futures import ThreadPoolExecutor, as_completed\n",
    "from langchain_core.rate_limiters import InMemoryRateLimiter\n",
    "\n",
    "module_path = os.path.abspath(os.path.join('..'))\n",
    "if module_path not in sys.path:\n",
    "    sys.path.append(module_path)\n",
    "\n",
    "from src.articles import create_static_metadata, create_keywords_tags_fuzzy, keywords_dict\n",
    "from src.llm import get_gemini_llm_client\n",
    "from src.prompts import get_metadata_prompt\n",
    "\n",
    "if not load_dotenv():\n",
    "    raise Exception('Error loading .env file. Make sure to place a valid OPEN_AI_KEY in the .env file.')"
   ]
  },
  {
   "cell_type": "code",
   "execution_count": 3,
   "metadata": {
    "ExecuteTime": {
     "end_time": "2025-03-18T22:10:58.108056Z",
     "start_time": "2025-03-18T22:10:58.047796Z"
    }
   },
   "outputs": [],
   "source": [
    "rate_limiter = InMemoryRateLimiter(\n",
    "    requests_per_second=0.5,  # <-- Gemini Free Tier\n",
    "    check_every_n_seconds=0.1,\n",
    ")\n",
    "\n",
    "llm_client = get_gemini_llm_client(\n",
    "    max_tokens=1024,\n",
    "    temperature=0.2,\n",
    "    rate_limiter=rate_limiter,\n",
    ")"
   ]
  },
  {
   "cell_type": "markdown",
   "metadata": {},
   "source": [
    "Setup the paths to data sources"
   ]
  },
  {
   "cell_type": "code",
   "execution_count": 4,
   "metadata": {},
   "outputs": [],
   "source": [
    "ARTICLES_CLEAN_DIR = os.path.join(\"..\", \"data\", \"articles_clean\")\n",
    "METADATA_PATH = os.path.join(\"..\", \"data\", \"metadata.csv\")"
   ]
  },
  {
   "cell_type": "markdown",
   "metadata": {},
   "source": [
    "Extract metadata"
   ]
  },
  {
   "cell_type": "code",
   "execution_count": 5,
   "metadata": {},
   "outputs": [],
   "source": [
    "class ArticleTags(BaseModel):\n",
    "    tags: list[str]"
   ]
  },
  {
   "cell_type": "code",
   "execution_count": 6,
   "metadata": {},
   "outputs": [],
   "source": [
    "def process_article(filename: str, with_tags: bool = True, tags_type: ('llm', 'keywords') = 'keywords'):\n",
    "    \"\"\"\n",
    "    Process an article and return its metadata.\n",
    "    :param filename: The name of the article file.\n",
    "    :param with_tags: Whether to include tags in the metadata.\n",
    "    :param tags_type: The type of tags to include in the metadata.\n",
    "    :return: The metadata of the article.\n",
    "    \"\"\"    \n",
    "    article_path = os.path.join(ARTICLES_CLEAN_DIR, filename)\n",
    "    with open(article_path, \"r\", encoding=\"utf-8\") as file:\n",
    "        article = json.load(file)\n",
    "    \n",
    "    # Create static metadata for the article\n",
    "    article_metadata = create_static_metadata(article, filename)\n",
    "    \n",
    "    if with_tags:\n",
    "        if tags_type == 'llm':\n",
    "            # Prepare the prompt for the LLM using the article's text\n",
    "            tags_prompt = get_metadata_prompt()\n",
    "            query = tags_prompt.format(article_text=article[\"text\"])\n",
    "            \n",
    "            # Invoke the LLM with structured output to extract tags\n",
    "            llm = llm_client.with_structured_output(ArticleTags)\n",
    "            response = llm.invoke([query])\n",
    "            tags = response.tags\n",
    "        elif tags_type == 'keywords':\n",
    "            keywords = keywords_dict()\n",
    "            tags = create_keywords_tags_fuzzy(article[\"text\"], keywords)\n",
    "        else:\n",
    "            raise ValueError(f\"Invalid tags_type: {tags_type}. Must be ('llm', 'keywords').\")\n",
    "    else:\n",
    "        tags = []\n",
    "    \n",
    "    article_metadata[\"tags\"] = tags\n",
    "    return article_metadata"
   ]
  },
  {
   "cell_type": "code",
   "execution_count": 7,
   "metadata": {},
   "outputs": [
    {
     "name": "stderr",
     "output_type": "stream",
     "text": [
      "100%|██████████| 87754/87754 [1:19:56<00:00, 18.30it/s]  \n"
     ]
    }
   ],
   "source": [
    "# List all cleaned article files\n",
    "articles = os.listdir(ARTICLES_CLEAN_DIR)\n",
    "metadata = []\n",
    "\n",
    "# Adjust the max_workers based on available resources (None is max)\n",
    "with ThreadPoolExecutor(max_workers=None) as executor:\n",
    "    futures = {executor.submit(process_article, filename): filename for filename in articles}\n",
    "    for future in tqdm(as_completed(futures), total=len(futures)):\n",
    "        try:\n",
    "            result = future.result()\n",
    "            metadata.append(result)\n",
    "        except Exception as e:\n",
    "            print(f\"Error processing file {futures[future]}: {e}\")\n",
    "\n",
    "\n",
    "df_metadata = pd.DataFrame(metadata)\n",
    "df_metadata.to_csv(METADATA_PATH, index=False)"
   ]
  },
  {
   "cell_type": "code",
   "execution_count": 8,
   "metadata": {},
   "outputs": [
    {
     "data": {
      "text/plain": [
       "count    87754.000000\n",
       "mean       511.983670\n",
       "std        351.851569\n",
       "min          1.000000\n",
       "25%        281.000000\n",
       "50%        422.000000\n",
       "75%        632.000000\n",
       "max       5931.000000\n",
       "Name: words_count, dtype: float64"
      ]
     },
     "execution_count": 8,
     "metadata": {},
     "output_type": "execute_result"
    }
   ],
   "source": [
    "# Articles length statistics\n",
    "df_metadata[\"words_count\"].describe()"
   ]
  },
  {
   "cell_type": "markdown",
   "metadata": {},
   "source": [
    "Categories by WZ"
   ]
  },
  {
   "cell_type": "code",
   "execution_count": 9,
   "metadata": {},
   "outputs": [
    {
     "data": {
      "text/plain": [
       "count       87754\n",
       "unique         47\n",
       "top       Politik\n",
       "freq        31919\n",
       "Name: category, dtype: object"
      ]
     },
     "execution_count": 9,
     "metadata": {},
     "output_type": "execute_result"
    }
   ],
   "source": [
    "df_metadata[\"category\"].describe()"
   ]
  },
  {
   "cell_type": "code",
   "execution_count": 10,
   "metadata": {},
   "outputs": [
    {
     "data": {
      "text/plain": [
       "category\n",
       "Politik                                  31919\n",
       "Wirtschaft                               16512\n",
       "Kommentare                               11408\n",
       "Gastkommentare                            7253\n",
       "Wissen                                    5632\n",
       "Europaarchiv                              5341\n",
       "Leitartikel                               3292\n",
       "Analysen                                  2478\n",
       "Reflexionen                               2308\n",
       "Recht                                      652\n",
       "Auf Justitias Spuren                       196\n",
       "Leserforum                                 170\n",
       "Klimawandel                                 52\n",
       "Wiener Zeitung - seit 1703                  47\n",
       "Sterbehilfe                                 44\n",
       "1914                                        39\n",
       "100 Jahre Republik                          38\n",
       "Stadtentwicklung                            28\n",
       "Wald                                        27\n",
       "100 Jahre Verfassung                        26\n",
       "EU für mich                                 26\n",
       "Asyl                                        26\n",
       "Frauentag                                   24\n",
       "Artenschutz                                 22\n",
       "Raumfahrt                                   22\n",
       "Gesundheitspolitik                          20\n",
       "Februar 1934                                16\n",
       "Gehirn                                      15\n",
       "Autismus                                    14\n",
       "Sand                                        14\n",
       "Ars Electronica                             11\n",
       "Ibiza-U-Ausschuss                           11\n",
       "Römische Verträge                           10\n",
       "Raumvisionen                                 9\n",
       "Genozid an Armeniern                         8\n",
       "Novemberpogrome                              7\n",
       "9/11                                         6\n",
       "Tschernobyl                                  6\n",
       "Das Beet                                     5\n",
       "310 Jahre Wiener Zeitung                     5\n",
       "70 Jahre Israel                              5\n",
       "70 Jahre Befreiung von Auschwitz             3\n",
       "Transgender                                  3\n",
       "Bildungsdebatte                              1\n",
       "Kriegsende 1945 - Zeitzeugen erzählen        1\n",
       "Rotes Wien                                   1\n",
       "Direkte Demokratie                           1\n",
       "Name: count, dtype: int64"
      ]
     },
     "execution_count": 10,
     "metadata": {},
     "output_type": "execute_result"
    }
   ],
   "source": [
    "df_metadata[\"category\"].value_counts()"
   ]
  },
  {
   "cell_type": "code",
   "execution_count": 11,
   "metadata": {},
   "outputs": [
    {
     "data": {
      "text/plain": [
       "tags\n",
       "other               73976\n",
       "COVID                5415\n",
       "Fake News            4610\n",
       "Digitalization       1149\n",
       "Demographics          990\n",
       "Innovation            823\n",
       "Financial Crises      612\n",
       "Sustainability        138\n",
       "AI                     37\n",
       "Local Journalism        4\n",
       "Name: count, dtype: int64"
      ]
     },
     "execution_count": 11,
     "metadata": {},
     "output_type": "execute_result"
    }
   ],
   "source": [
    "# Tags statistics (only available if with_tags=True)\n",
    "df_metadata.explode(\"tags\")[\"tags\"].value_counts()"
   ]
  },
  {
   "cell_type": "code",
   "execution_count": 12,
   "metadata": {},
   "outputs": [
    {
     "data": {
      "text/plain": [
       "np.int64(77)"
      ]
     },
     "execution_count": 12,
     "metadata": {},
     "output_type": "execute_result"
    }
   ],
   "source": [
    "# Missing authors\n",
    "df_metadata[\"author\"].isnull().sum()"
   ]
  },
  {
   "cell_type": "markdown",
   "metadata": {},
   "source": [
    "Metadata df"
   ]
  },
  {
   "cell_type": "code",
   "execution_count": 13,
   "metadata": {},
   "outputs": [
    {
     "data": {
      "text/html": [
       "<div>\n",
       "<style scoped>\n",
       "    .dataframe tbody tr th:only-of-type {\n",
       "        vertical-align: middle;\n",
       "    }\n",
       "\n",
       "    .dataframe tbody tr th {\n",
       "        vertical-align: top;\n",
       "    }\n",
       "\n",
       "    .dataframe thead th {\n",
       "        text-align: right;\n",
       "    }\n",
       "</style>\n",
       "<table border=\"1\" class=\"dataframe\">\n",
       "  <thead>\n",
       "    <tr style=\"text-align: right;\">\n",
       "      <th></th>\n",
       "      <th>id</th>\n",
       "      <th>title</th>\n",
       "      <th>author</th>\n",
       "      <th>published_at</th>\n",
       "      <th>words_count</th>\n",
       "      <th>filename</th>\n",
       "      <th>category</th>\n",
       "      <th>section</th>\n",
       "      <th>tags</th>\n",
       "    </tr>\n",
       "  </thead>\n",
       "  <tbody>\n",
       "    <tr>\n",
       "      <th>0</th>\n",
       "      <td>cbbd50ec-c07b-4fcf-b7bf-dd0b7bacc887</td>\n",
       "      <td>100.000 Plätze mehr in zehn Jahren</td>\n",
       "      <td>Alexandra Grass</td>\n",
       "      <td>2003-10-08 00:00</td>\n",
       "      <td>264</td>\n",
       "      <td>100000-platze-mehr-in-zehn-jahren.json</td>\n",
       "      <td>Politik</td>\n",
       "      <td>Nachrichten</td>\n",
       "      <td>other</td>\n",
       "    </tr>\n",
       "    <tr>\n",
       "      <th>1</th>\n",
       "      <td>a0799ad0-f4ed-4989-8c9a-afa6e88677c6</td>\n",
       "      <td>1.700 Lehrlinge ohne Ausbildung</td>\n",
       "      <td>Werner Grotte</td>\n",
       "      <td>2004-10-06 00:00</td>\n",
       "      <td>255</td>\n",
       "      <td>1700-lehrlinge-ohne-ausbildung.json</td>\n",
       "      <td>Wirtschaft</td>\n",
       "      <td>Nachrichten</td>\n",
       "      <td>other</td>\n",
       "    </tr>\n",
       "    <tr>\n",
       "      <th>2</th>\n",
       "      <td>9866b0a2-9c97-4a49-b5c3-d6803a3f9eac</td>\n",
       "      <td>14 Gemeinden erheben schwere Vorwürfe gegen Ra...</td>\n",
       "      <td>Kid Möchel</td>\n",
       "      <td>2011-06-17 18:28</td>\n",
       "      <td>530</td>\n",
       "      <td>14-gemeinden-erheben-schwere-vorwurfe-gegen-ra...</td>\n",
       "      <td>Wirtschaft</td>\n",
       "      <td>Nachrichten</td>\n",
       "      <td>other</td>\n",
       "    </tr>\n",
       "    <tr>\n",
       "      <th>3</th>\n",
       "      <td>1e9ee2dd-f1cc-42c3-a61b-47cd64dd3fca</td>\n",
       "      <td>10.000 syrische Babys - geboren in einem ander...</td>\n",
       "      <td>Maysoon Mohammad Khalaf Al-Hijazat</td>\n",
       "      <td>2017-08-16 13:23</td>\n",
       "      <td>522</td>\n",
       "      <td>10000-syrische-babys-geboren-in-einem-anderen-...</td>\n",
       "      <td>Gastkommentare</td>\n",
       "      <td>Meinung</td>\n",
       "      <td>other</td>\n",
       "    </tr>\n",
       "    <tr>\n",
       "      <th>4</th>\n",
       "      <td>4fe39ec3-426f-4608-9def-225229a4a476</td>\n",
       "      <td>1700 Euro steuerfrei: Was der SPÖ-Plan bringt</td>\n",
       "      <td>Karl Ettinger</td>\n",
       "      <td>2019-08-26 18:14</td>\n",
       "      <td>824</td>\n",
       "      <td>1700-euro-steuerfrei-was-der-spo-plan-bringt.json</td>\n",
       "      <td>Politik</td>\n",
       "      <td>Nachrichten</td>\n",
       "      <td>other</td>\n",
       "    </tr>\n",
       "  </tbody>\n",
       "</table>\n",
       "</div>"
      ],
      "text/plain": [
       "                                     id  \\\n",
       "0  cbbd50ec-c07b-4fcf-b7bf-dd0b7bacc887   \n",
       "1  a0799ad0-f4ed-4989-8c9a-afa6e88677c6   \n",
       "2  9866b0a2-9c97-4a49-b5c3-d6803a3f9eac   \n",
       "3  1e9ee2dd-f1cc-42c3-a61b-47cd64dd3fca   \n",
       "4  4fe39ec3-426f-4608-9def-225229a4a476   \n",
       "\n",
       "                                               title  \\\n",
       "0                 100.000 Plätze mehr in zehn Jahren   \n",
       "1                    1.700 Lehrlinge ohne Ausbildung   \n",
       "2  14 Gemeinden erheben schwere Vorwürfe gegen Ra...   \n",
       "3  10.000 syrische Babys - geboren in einem ander...   \n",
       "4      1700 Euro steuerfrei: Was der SPÖ-Plan bringt   \n",
       "\n",
       "                               author      published_at  words_count  \\\n",
       "0                     Alexandra Grass  2003-10-08 00:00          264   \n",
       "1                       Werner Grotte  2004-10-06 00:00          255   \n",
       "2                          Kid Möchel  2011-06-17 18:28          530   \n",
       "3  Maysoon Mohammad Khalaf Al-Hijazat  2017-08-16 13:23          522   \n",
       "4                       Karl Ettinger  2019-08-26 18:14          824   \n",
       "\n",
       "                                            filename        category  \\\n",
       "0             100000-platze-mehr-in-zehn-jahren.json         Politik   \n",
       "1                1700-lehrlinge-ohne-ausbildung.json      Wirtschaft   \n",
       "2  14-gemeinden-erheben-schwere-vorwurfe-gegen-ra...      Wirtschaft   \n",
       "3  10000-syrische-babys-geboren-in-einem-anderen-...  Gastkommentare   \n",
       "4  1700-euro-steuerfrei-was-der-spo-plan-bringt.json         Politik   \n",
       "\n",
       "       section   tags  \n",
       "0  Nachrichten  other  \n",
       "1  Nachrichten  other  \n",
       "2  Nachrichten  other  \n",
       "3      Meinung  other  \n",
       "4  Nachrichten  other  "
      ]
     },
     "execution_count": 13,
     "metadata": {},
     "output_type": "execute_result"
    }
   ],
   "source": [
    "df_metadata.head(5)"
   ]
  }
 ],
 "metadata": {
  "kernelspec": {
   "display_name": ".venv",
   "language": "python",
   "name": "python3"
  },
  "language_info": {
   "codemirror_mode": {
    "name": "ipython",
    "version": 3
   },
   "file_extension": ".py",
   "mimetype": "text/x-python",
   "name": "python",
   "nbconvert_exporter": "python",
   "pygments_lexer": "ipython3",
   "version": "3.13.1"
  }
 },
 "nbformat": 4,
 "nbformat_minor": 2
}
