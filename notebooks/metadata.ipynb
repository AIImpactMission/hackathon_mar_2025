{
 "cells": [
  {
   "cell_type": "markdown",
   "metadata": {},
   "source": [
    "### Metadata source"
   ]
  },
  {
   "cell_type": "code",
   "metadata": {
    "ExecuteTime": {
     "end_time": "2025-03-20T19:29:21.758272Z",
     "start_time": "2025-03-20T19:29:21.732681Z"
    }
   },
   "source": [
    "import sys\n",
    "import os\n",
    "import pandas as pd\n",
    "import json\n",
    "from tqdm import tqdm\n",
    "from dotenv import load_dotenv\n",
    "from pydantic import BaseModel\n",
    "from concurrent.futures import ThreadPoolExecutor, as_completed\n",
    "from langchain_core.rate_limiters import InMemoryRateLimiter\n",
    "\n",
    "module_path = os.path.abspath(os.path.join('..'))\n",
    "if module_path not in sys.path:\n",
    "    sys.path.append(module_path)\n",
    "\n",
    "from src.articles import create_static_metadata, create_keywords_tags_fuzzy, keywords_dict\n",
    "# from src.llm import get_gemini_llm_client\n",
    "# from src.prompts import get_metadata_prompt\n",
    "\n",
    "if not load_dotenv():\n",
    "    raise Exception('Error loading .env file. Make sure to place a valid OPEN_AI_KEY in the .env file.')"
   ],
   "outputs": [],
   "execution_count": 6
  },
  {
   "cell_type": "code",
   "metadata": {
    "ExecuteTime": {
     "end_time": "2025-03-20T19:11:45.928963Z",
     "start_time": "2025-03-20T19:11:44.678551Z"
    }
   },
   "source": [
    "rate_limiter = InMemoryRateLimiter(\n",
    "    requests_per_second=0.5,  # <-- Gemini Free Tier\n",
    "    check_every_n_seconds=0.1,\n",
    ")\n",
    "\n",
    "llm_client = get_gemini_llm_client(\n",
    "    max_tokens=1024,\n",
    "    temperature=0.2,\n",
    "    rate_limiter=rate_limiter,\n",
    ")"
   ],
   "outputs": [
    {
     "ename": "ValidationError",
     "evalue": "1 validation error for ChatOpenAI\nmodel_name\n  Input should be a valid string [type=string_type, input_value=None, input_type=NoneType]\n    For further information visit https://errors.pydantic.dev/2.10/v/string_type",
     "output_type": "error",
     "traceback": [
      "\u001B[31m---------------------------------------------------------------------------\u001B[39m",
      "\u001B[31mValidationError\u001B[39m                           Traceback (most recent call last)",
      "\u001B[36mCell\u001B[39m\u001B[36m \u001B[39m\u001B[32mIn[2]\u001B[39m\u001B[32m, line 6\u001B[39m\n\u001B[32m      1\u001B[39m rate_limiter = InMemoryRateLimiter(\n\u001B[32m      2\u001B[39m     requests_per_second=\u001B[32m0.5\u001B[39m,  \u001B[38;5;66;03m# <-- Gemini Free Tier\u001B[39;00m\n\u001B[32m      3\u001B[39m     check_every_n_seconds=\u001B[32m0.1\u001B[39m,\n\u001B[32m      4\u001B[39m )\n\u001B[32m----> \u001B[39m\u001B[32m6\u001B[39m llm_client = \u001B[43mget_gemini_llm_client\u001B[49m\u001B[43m(\u001B[49m\n\u001B[32m      7\u001B[39m \u001B[43m    \u001B[49m\u001B[43mmax_tokens\u001B[49m\u001B[43m=\u001B[49m\u001B[32;43m1024\u001B[39;49m\u001B[43m,\u001B[49m\n\u001B[32m      8\u001B[39m \u001B[43m    \u001B[49m\u001B[43mtemperature\u001B[49m\u001B[43m=\u001B[49m\u001B[32;43m0.2\u001B[39;49m\u001B[43m,\u001B[49m\n\u001B[32m      9\u001B[39m \u001B[43m    \u001B[49m\u001B[43mrate_limiter\u001B[49m\u001B[43m=\u001B[49m\u001B[43mrate_limiter\u001B[49m\u001B[43m,\u001B[49m\n\u001B[32m     10\u001B[39m \u001B[43m)\u001B[49m\n",
      "\u001B[36mFile \u001B[39m\u001B[32m~\\code\\private\\hackathon_mar_2025\\src\\llm.py:26\u001B[39m, in \u001B[36mget_gemini_llm_client\u001B[39m\u001B[34m(**kwargs)\u001B[39m\n\u001B[32m     25\u001B[39m \u001B[38;5;28;01mdef\u001B[39;00m\u001B[38;5;250m \u001B[39m\u001B[34mget_gemini_llm_client\u001B[39m(**kwargs):\n\u001B[32m---> \u001B[39m\u001B[32m26\u001B[39m     \u001B[38;5;28;01mreturn\u001B[39;00m \u001B[43mChatOpenAI\u001B[49m\u001B[43m(\u001B[49m\n\u001B[32m     27\u001B[39m \u001B[43m        \u001B[49m\u001B[43mopenai_api_key\u001B[49m\u001B[43m=\u001B[49m\u001B[43mos\u001B[49m\u001B[43m.\u001B[49m\u001B[43mgetenv\u001B[49m\u001B[43m(\u001B[49m\u001B[33;43m\"\u001B[39;49m\u001B[33;43mGEMINI_API_KEY\u001B[39;49m\u001B[33;43m\"\u001B[39;49m\u001B[43m)\u001B[49m\u001B[43m,\u001B[49m\n\u001B[32m     28\u001B[39m \u001B[43m        \u001B[49m\u001B[43mopenai_api_base\u001B[49m\u001B[43m=\u001B[49m\u001B[33;43m\"\u001B[39;49m\u001B[33;43mhttps://generativelanguage.googleapis.com/v1beta/openai/\u001B[39;49m\u001B[33;43m\"\u001B[39;49m\u001B[43m,\u001B[49m\n\u001B[32m     29\u001B[39m \u001B[43m        \u001B[49m\u001B[43mmodel_name\u001B[49m\u001B[43m=\u001B[49m\u001B[43mos\u001B[49m\u001B[43m.\u001B[49m\u001B[43mgetenv\u001B[49m\u001B[43m(\u001B[49m\u001B[33;43m\"\u001B[39;49m\u001B[33;43mGEMINI_MODEL_NAME\u001B[39;49m\u001B[33;43m\"\u001B[39;49m\u001B[43m)\u001B[49m\u001B[43m,\u001B[49m\n\u001B[32m     30\u001B[39m \u001B[43m        \u001B[49m\u001B[43m*\u001B[49m\u001B[43m*\u001B[49m\u001B[43mkwargs\u001B[49m\n\u001B[32m     31\u001B[39m \u001B[43m    \u001B[49m\u001B[43m)\u001B[49m\n",
      "\u001B[36mFile \u001B[39m\u001B[32m~\\code\\private\\hackathon_mar_2025\\.venv\\Lib\\site-packages\\langchain_core\\load\\serializable.py:125\u001B[39m, in \u001B[36mSerializable.__init__\u001B[39m\u001B[34m(self, *args, **kwargs)\u001B[39m\n\u001B[32m    123\u001B[39m \u001B[38;5;28;01mdef\u001B[39;00m\u001B[38;5;250m \u001B[39m\u001B[34m__init__\u001B[39m(\u001B[38;5;28mself\u001B[39m, *args: Any, **kwargs: Any) -> \u001B[38;5;28;01mNone\u001B[39;00m:\n\u001B[32m    124\u001B[39m \u001B[38;5;250m    \u001B[39m\u001B[33;03m\"\"\"\"\"\"\u001B[39;00m\n\u001B[32m--> \u001B[39m\u001B[32m125\u001B[39m     \u001B[38;5;28;43msuper\u001B[39;49m\u001B[43m(\u001B[49m\u001B[43m)\u001B[49m\u001B[43m.\u001B[49m\u001B[34;43m__init__\u001B[39;49m\u001B[43m(\u001B[49m\u001B[43m*\u001B[49m\u001B[43margs\u001B[49m\u001B[43m,\u001B[49m\u001B[43m \u001B[49m\u001B[43m*\u001B[49m\u001B[43m*\u001B[49m\u001B[43mkwargs\u001B[49m\u001B[43m)\u001B[49m\n",
      "\u001B[36mFile \u001B[39m\u001B[32m~\\code\\private\\hackathon_mar_2025\\.venv\\Lib\\site-packages\\pydantic\\main.py:214\u001B[39m, in \u001B[36mBaseModel.__init__\u001B[39m\u001B[34m(self, **data)\u001B[39m\n\u001B[32m    212\u001B[39m \u001B[38;5;66;03m# `__tracebackhide__` tells pytest and some other tools to omit this function from tracebacks\u001B[39;00m\n\u001B[32m    213\u001B[39m __tracebackhide__ = \u001B[38;5;28;01mTrue\u001B[39;00m\n\u001B[32m--> \u001B[39m\u001B[32m214\u001B[39m validated_self = \u001B[38;5;28;43mself\u001B[39;49m\u001B[43m.\u001B[49m\u001B[43m__pydantic_validator__\u001B[49m\u001B[43m.\u001B[49m\u001B[43mvalidate_python\u001B[49m\u001B[43m(\u001B[49m\u001B[43mdata\u001B[49m\u001B[43m,\u001B[49m\u001B[43m \u001B[49m\u001B[43mself_instance\u001B[49m\u001B[43m=\u001B[49m\u001B[38;5;28;43mself\u001B[39;49m\u001B[43m)\u001B[49m\n\u001B[32m    215\u001B[39m \u001B[38;5;28;01mif\u001B[39;00m \u001B[38;5;28mself\u001B[39m \u001B[38;5;129;01mis\u001B[39;00m \u001B[38;5;129;01mnot\u001B[39;00m validated_self:\n\u001B[32m    216\u001B[39m     warnings.warn(\n\u001B[32m    217\u001B[39m         \u001B[33m'\u001B[39m\u001B[33mA custom validator is returning a value other than `self`.\u001B[39m\u001B[38;5;130;01m\\n\u001B[39;00m\u001B[33m'\u001B[39m\n\u001B[32m    218\u001B[39m         \u001B[33m\"\u001B[39m\u001B[33mReturning anything other than `self` from a top level model validator isn\u001B[39m\u001B[33m'\u001B[39m\u001B[33mt supported when validating via `__init__`.\u001B[39m\u001B[38;5;130;01m\\n\u001B[39;00m\u001B[33m\"\u001B[39m\n\u001B[32m    219\u001B[39m         \u001B[33m'\u001B[39m\u001B[33mSee the `model_validator` docs (https://docs.pydantic.dev/latest/concepts/validators/#model-validators) for more details.\u001B[39m\u001B[33m'\u001B[39m,\n\u001B[32m    220\u001B[39m         stacklevel=\u001B[32m2\u001B[39m,\n\u001B[32m    221\u001B[39m     )\n",
      "\u001B[31mValidationError\u001B[39m: 1 validation error for ChatOpenAI\nmodel_name\n  Input should be a valid string [type=string_type, input_value=None, input_type=NoneType]\n    For further information visit https://errors.pydantic.dev/2.10/v/string_type"
     ]
    }
   ],
   "execution_count": 2
  },
  {
   "cell_type": "markdown",
   "metadata": {},
   "source": [
    "Setup the paths to data sources"
   ]
  },
  {
   "cell_type": "code",
   "metadata": {
    "ExecuteTime": {
     "end_time": "2025-03-20T19:29:25.018427Z",
     "start_time": "2025-03-20T19:29:25.005231Z"
    }
   },
   "source": [
    "ARTICLES_CLEAN_DIR = os.path.join(\"..\", \"data\", \"articles_clean\")\n",
    "METADATA_PATH = os.path.join(\"..\", \"data\", \"metadata.csv\")"
   ],
   "outputs": [],
   "execution_count": 7
  },
  {
   "cell_type": "markdown",
   "metadata": {},
   "source": [
    "Extract metadata"
   ]
  },
  {
   "cell_type": "code",
   "metadata": {
    "ExecuteTime": {
     "end_time": "2025-03-20T19:29:25.540671Z",
     "start_time": "2025-03-20T19:29:25.521499Z"
    }
   },
   "source": [
    "class ArticleTags(BaseModel):\n",
    "    tags: list[str]"
   ],
   "outputs": [],
   "execution_count": 8
  },
  {
   "metadata": {
    "ExecuteTime": {
     "end_time": "2025-03-20T19:29:26.060001Z",
     "start_time": "2025-03-20T19:29:25.819816Z"
    }
   },
   "cell_type": "code",
   "source": [
    "articles = os.listdir(ARTICLES_CLEAN_DIR)\n",
    "import random\n",
    "random.seed(42)\n",
    "random.shuffle(articles)\n",
    "# with open(, \"r\", encoding=\"utf-8\") as file:\n",
    "#     article = json.load(file)\n",
    "\n",
    "article_ls = []\n",
    "for name in articles[:10]:\n",
    "    with open(os.path.join(ARTICLES_CLEAN_DIR, name), \"r\", encoding=\"utf-8\") as file:\n",
    "        article = json.load(file)\n",
    "\n",
    "    article_ls.append(article)\n",
    "\n",
    "article_df = pd.DataFrame(article_ls)"
   ],
   "outputs": [],
   "execution_count": 9
  },
  {
   "metadata": {
    "ExecuteTime": {
     "end_time": "2025-03-20T19:29:27.379315Z",
     "start_time": "2025-03-20T19:29:27.353085Z"
    }
   },
   "cell_type": "code",
   "source": "article_df",
   "outputs": [
    {
     "data": {
      "text/plain": [
       "                                     id      published_at  \\\n",
       "0  948de0b1-b3b7-4c45-b22a-a074d3761cfc  2010-06-09 18:41   \n",
       "1  d3da5c1b-9f10-4603-a648-d511cee9c14e  2016-02-17 17:50   \n",
       "2  a23cee8a-a2e3-43b7-b62b-6e5c3c0f2e87  2008-03-26 18:57   \n",
       "3  9fa0d59f-06ed-434f-9a7e-aabeff65fcbf  2015-12-17 18:15   \n",
       "4  dda1a4cf-76b9-41b0-a637-d0b7e12625d9  2022-11-14 09:30   \n",
       "5  0cf87a14-3d90-43f3-9659-c5e3f230add2  2019-09-18 11:00   \n",
       "6  68990817-3939-4518-845c-5d7e5c0057a2  2017-06-07 17:49   \n",
       "7  0cf4b22c-931e-4438-b7c1-620634b9bb01  2011-09-12 18:21   \n",
       "8  de9c2c3e-4d94-4c79-92af-8d85a1f9a7cf  2007-04-17 17:48   \n",
       "9  d1c08103-21e1-4104-9c84-bcb776b0609c  2015-02-25 18:06   \n",
       "\n",
       "                                   author  \\\n",
       "0                         Walter Hämmerle   \n",
       "1   WZ-Korrespondentin Martyna Czarnowska   \n",
       "2                             Helmut Dité   \n",
       "3                       Michael Schmölzer   \n",
       "4                        Peter De Coensel   \n",
       "5                    Jan Michael Marchart   \n",
       "6                              Eva Stanzl   \n",
       "7                         Stefan Melichar   \n",
       "8  WZ-Korrespondentin Alexandra Klausmann   \n",
       "9                         Brigitte Pechar   \n",
       "\n",
       "                                    title        category      ressort  \\\n",
       "0                Unerbittliche Unvernunft     Leitartikel      Meinung   \n",
       "1                    Englisches Frühstück         Politik  Nachrichten   \n",
       "2               Gewinne sprudeln im Osten      Wirtschaft  Nachrichten   \n",
       "3          Starke Ansage - leere Drohung?         Politik  Nachrichten   \n",
       "4            Wirtschaftspolitik als Waffe  Gastkommentare      Meinung   \n",
       "5              Das Jobmigranten-Karussell         Politik  Nachrichten   \n",
       "6                Die Bewahrung des Mythos          Wissen  Nachrichten   \n",
       "7  Justiz ermittelt gegen Ex-Hypo-Berater      Wirtschaft  Nachrichten   \n",
       "8   Streik bei Skoda legt Produktion lahm      Wirtschaft  Nachrichten   \n",
       "9                       Grünes Misstrauen         Politik  Nachrichten   \n",
       "\n",
       "                                                text  \n",
       "0  In Deutschland gibt es einige. Einer von ihnen...  \n",
       "1  Brüssel. \"Ein \"englisches Frühstück\": Das könn...  \n",
       "2  Im Gegenteil: Nachdem der Gewinn im CEE-Raum 2...  \n",
       "3  Wien/Berlin/Brüssel. Im Streit um die EU-weite...  \n",
       "4  Von einer vorübergehenden Inflation im Zusamme...  \n",
       "5  Wer es bis dahin nicht für möglich gehalten ha...  \n",
       "6  Ein Dutzend Journalisten inspiziert das hinter...  \n",
       "7  Wien.\\nDie - ohnehin schon ziemlich umfangreic...  \n",
       "8  Ziel des Streiks, so Jaroslav Povsik, Vorsitze...  \n",
       "9  Wien. Hypo-Untersuchungsausschuss, Islamgesetz...  "
      ],
      "text/html": [
       "<div>\n",
       "<style scoped>\n",
       "    .dataframe tbody tr th:only-of-type {\n",
       "        vertical-align: middle;\n",
       "    }\n",
       "\n",
       "    .dataframe tbody tr th {\n",
       "        vertical-align: top;\n",
       "    }\n",
       "\n",
       "    .dataframe thead th {\n",
       "        text-align: right;\n",
       "    }\n",
       "</style>\n",
       "<table border=\"1\" class=\"dataframe\">\n",
       "  <thead>\n",
       "    <tr style=\"text-align: right;\">\n",
       "      <th></th>\n",
       "      <th>id</th>\n",
       "      <th>published_at</th>\n",
       "      <th>author</th>\n",
       "      <th>title</th>\n",
       "      <th>category</th>\n",
       "      <th>ressort</th>\n",
       "      <th>text</th>\n",
       "    </tr>\n",
       "  </thead>\n",
       "  <tbody>\n",
       "    <tr>\n",
       "      <th>0</th>\n",
       "      <td>948de0b1-b3b7-4c45-b22a-a074d3761cfc</td>\n",
       "      <td>2010-06-09 18:41</td>\n",
       "      <td>Walter Hämmerle</td>\n",
       "      <td>Unerbittliche Unvernunft</td>\n",
       "      <td>Leitartikel</td>\n",
       "      <td>Meinung</td>\n",
       "      <td>In Deutschland gibt es einige. Einer von ihnen...</td>\n",
       "    </tr>\n",
       "    <tr>\n",
       "      <th>1</th>\n",
       "      <td>d3da5c1b-9f10-4603-a648-d511cee9c14e</td>\n",
       "      <td>2016-02-17 17:50</td>\n",
       "      <td>WZ-Korrespondentin Martyna Czarnowska</td>\n",
       "      <td>Englisches Frühstück</td>\n",
       "      <td>Politik</td>\n",
       "      <td>Nachrichten</td>\n",
       "      <td>Brüssel. \"Ein \"englisches Frühstück\": Das könn...</td>\n",
       "    </tr>\n",
       "    <tr>\n",
       "      <th>2</th>\n",
       "      <td>a23cee8a-a2e3-43b7-b62b-6e5c3c0f2e87</td>\n",
       "      <td>2008-03-26 18:57</td>\n",
       "      <td>Helmut Dité</td>\n",
       "      <td>Gewinne sprudeln im Osten</td>\n",
       "      <td>Wirtschaft</td>\n",
       "      <td>Nachrichten</td>\n",
       "      <td>Im Gegenteil: Nachdem der Gewinn im CEE-Raum 2...</td>\n",
       "    </tr>\n",
       "    <tr>\n",
       "      <th>3</th>\n",
       "      <td>9fa0d59f-06ed-434f-9a7e-aabeff65fcbf</td>\n",
       "      <td>2015-12-17 18:15</td>\n",
       "      <td>Michael Schmölzer</td>\n",
       "      <td>Starke Ansage - leere Drohung?</td>\n",
       "      <td>Politik</td>\n",
       "      <td>Nachrichten</td>\n",
       "      <td>Wien/Berlin/Brüssel. Im Streit um die EU-weite...</td>\n",
       "    </tr>\n",
       "    <tr>\n",
       "      <th>4</th>\n",
       "      <td>dda1a4cf-76b9-41b0-a637-d0b7e12625d9</td>\n",
       "      <td>2022-11-14 09:30</td>\n",
       "      <td>Peter De Coensel</td>\n",
       "      <td>Wirtschaftspolitik als Waffe</td>\n",
       "      <td>Gastkommentare</td>\n",
       "      <td>Meinung</td>\n",
       "      <td>Von einer vorübergehenden Inflation im Zusamme...</td>\n",
       "    </tr>\n",
       "    <tr>\n",
       "      <th>5</th>\n",
       "      <td>0cf87a14-3d90-43f3-9659-c5e3f230add2</td>\n",
       "      <td>2019-09-18 11:00</td>\n",
       "      <td>Jan Michael Marchart</td>\n",
       "      <td>Das Jobmigranten-Karussell</td>\n",
       "      <td>Politik</td>\n",
       "      <td>Nachrichten</td>\n",
       "      <td>Wer es bis dahin nicht für möglich gehalten ha...</td>\n",
       "    </tr>\n",
       "    <tr>\n",
       "      <th>6</th>\n",
       "      <td>68990817-3939-4518-845c-5d7e5c0057a2</td>\n",
       "      <td>2017-06-07 17:49</td>\n",
       "      <td>Eva Stanzl</td>\n",
       "      <td>Die Bewahrung des Mythos</td>\n",
       "      <td>Wissen</td>\n",
       "      <td>Nachrichten</td>\n",
       "      <td>Ein Dutzend Journalisten inspiziert das hinter...</td>\n",
       "    </tr>\n",
       "    <tr>\n",
       "      <th>7</th>\n",
       "      <td>0cf4b22c-931e-4438-b7c1-620634b9bb01</td>\n",
       "      <td>2011-09-12 18:21</td>\n",
       "      <td>Stefan Melichar</td>\n",
       "      <td>Justiz ermittelt gegen Ex-Hypo-Berater</td>\n",
       "      <td>Wirtschaft</td>\n",
       "      <td>Nachrichten</td>\n",
       "      <td>Wien.\\nDie - ohnehin schon ziemlich umfangreic...</td>\n",
       "    </tr>\n",
       "    <tr>\n",
       "      <th>8</th>\n",
       "      <td>de9c2c3e-4d94-4c79-92af-8d85a1f9a7cf</td>\n",
       "      <td>2007-04-17 17:48</td>\n",
       "      <td>WZ-Korrespondentin Alexandra Klausmann</td>\n",
       "      <td>Streik bei Skoda legt Produktion lahm</td>\n",
       "      <td>Wirtschaft</td>\n",
       "      <td>Nachrichten</td>\n",
       "      <td>Ziel des Streiks, so Jaroslav Povsik, Vorsitze...</td>\n",
       "    </tr>\n",
       "    <tr>\n",
       "      <th>9</th>\n",
       "      <td>d1c08103-21e1-4104-9c84-bcb776b0609c</td>\n",
       "      <td>2015-02-25 18:06</td>\n",
       "      <td>Brigitte Pechar</td>\n",
       "      <td>Grünes Misstrauen</td>\n",
       "      <td>Politik</td>\n",
       "      <td>Nachrichten</td>\n",
       "      <td>Wien. Hypo-Untersuchungsausschuss, Islamgesetz...</td>\n",
       "    </tr>\n",
       "  </tbody>\n",
       "</table>\n",
       "</div>"
      ]
     },
     "execution_count": 10,
     "metadata": {},
     "output_type": "execute_result"
    }
   ],
   "execution_count": 10
  },
  {
   "metadata": {
    "ExecuteTime": {
     "end_time": "2025-03-20T18:59:12.893874Z",
     "start_time": "2025-03-20T18:59:12.885650Z"
    }
   },
   "cell_type": "code",
   "source": [
    "import pandas as pd\n",
    "\n",
    "pd.Series([len(a[\"text\"]) for a in article_df.iterrows()]).describe()\n",
    "# around 4000 characters per article -> ~1000 tokens  (based on 4k random sample)"
   ],
   "outputs": [
    {
     "data": {
      "text/plain": [
       "count     4000.000000\n",
       "mean      3756.063250\n",
       "std       2519.838299\n",
       "min        196.000000\n",
       "25%       2089.500000\n",
       "50%       3093.000000\n",
       "75%       4720.000000\n",
       "max      23613.000000\n",
       "dtype: float64"
      ]
     },
     "execution_count": 25,
     "metadata": {},
     "output_type": "execute_result"
    }
   ],
   "execution_count": 25
  },
  {
   "metadata": {
    "ExecuteTime": {
     "end_time": "2025-03-20T19:31:13.411558Z",
     "start_time": "2025-03-20T19:31:13.398810Z"
    }
   },
   "cell_type": "code",
   "source": [
    "from nltk.corpus import stopwords\n",
    "import string\n",
    "\n",
    "stop_words = set(stopwords.words(\"english\"))\n",
    "\n",
    "# TODO\n",
    "def clean_text(text):\n",
    "    text = text.lower()\n",
    "    text = \"\".join([char if char not in string.punctuation else \" \" for char in text])\n",
    "    words = text.split()\n",
    "    words = [word for word in words if word not in stop_words]\n",
    "    return \" \".join(words)"
   ],
   "outputs": [],
   "execution_count": 23
  },
  {
   "metadata": {
    "ExecuteTime": {
     "end_time": "2025-03-20T19:31:14.695148Z",
     "start_time": "2025-03-20T19:31:14.681151Z"
    }
   },
   "cell_type": "code",
   "source": "article_df[\"text_cleaned\"] = article_df[\"text\"].apply(clean_text)",
   "outputs": [],
   "execution_count": 24
  },
  {
   "metadata": {
    "ExecuteTime": {
     "end_time": "2025-03-20T19:29:31.873781Z",
     "start_time": "2025-03-20T19:29:31.852286Z"
    }
   },
   "cell_type": "code",
   "source": [
    "from transformers import pipeline\n",
    "import multiprocessing as mp\n",
    "import pandas as pd\n",
    "\n",
    "# Example candidate labels\n",
    "candidate_labels = ['financial crisis', 'sustainability', 'fake news', 'AI', 'digitalization', 'local journalism', 'covid', 'demographics', 'innovation', \"other\"]\n",
    "\n",
    "# Initialize the pipeline (consider doing this within each process for GPU utilization)\n",
    "def init_model():\n",
    "    global classifier\n",
    "    classifier = pipeline(\"zero-shot-classification\", model=\"facebook/bart-large-mnli\") #, device=0)\n",
    "\n",
    "# Worker function to process a chunk of articles\n",
    "def process_chunk(chunk):\n",
    "    results = []\n",
    "    for article in chunk:\n",
    "        # Optionally, pre-process article text (e.g., summarize or truncate)\n",
    "        # For simplicity, we just truncate to 512 tokens here:\n",
    "        # article = clean_text(article)\n",
    "        truncated_article = \" \".join(article.split()[:1025])\n",
    "        res = classifier(truncated_article, candidate_labels, multi_label=False)\n",
    "        results.append(res[\"labels\"][0])  # Taking the top label\n",
    "    return results"
   ],
   "outputs": [],
   "execution_count": 11
  },
  {
   "metadata": {},
   "cell_type": "code",
   "outputs": [],
   "execution_count": null,
   "source": [
    "# Assume you have your articles in a list or DataFrame column\n",
    "# For demonstration, create a dummy DataFrame:\n",
    "\n",
    "# Split the DataFrame into chunks for each worker (adjust chunk size as needed)\n",
    "num_workers = 1 #mp.cpu_count()  # or set this to match the number of machines or cores you want to use\n",
    "chunks = [article_df[\"text\"].tolist()[i::num_workers] for i in range(num_workers)]\n",
    "\n",
    "# Create a pool of workers and initialize the model in each process\n",
    "with mp.Pool(processes=num_workers, initializer=init_model) as pool:\n",
    "    results = pool.map(process_chunk, chunks)\n",
    "\n",
    "# Flatten results and attach to the DataFrame\n",
    "flat_results = [label for sublist in results for label in sublist]\n",
    "article_df[\"predicted_topic\"] = flat_results\n",
    "\n",
    "# Save or further process your results\n",
    "# df.to_csv(\"tagged_articles.csv\", index=False)"
   ]
  },
  {
   "metadata": {
    "ExecuteTime": {
     "end_time": "2025-03-20T19:38:53.127156Z",
     "start_time": "2025-03-20T19:38:53.114264Z"
    }
   },
   "cell_type": "code",
   "source": [
    "sample_text = \"Trotz offensichtlicher Probleme erklärten Finanzexperten Anfang der 2000er Jahre die Marktbedingungen für weitgehend optimal. Sie vertrauten auf mathematische Modelle, in denen ideale Bedingungen angenommen wurden, die es im wirklichen Leben nicht gibt. Zum Beispiel besagte die Effizienzmarkthypothese, dass Finanzmärkte stets für eine effiziente Preisbildung und damit eine Stabilisierung der Wirtschaft sorgten, indem hohe Risiken mit hohen Aufschlägen und niedrige Risiken mit geringen Aufschlägen bei Finanzprodukten versehen würden. Eine Sichtweise mit Fehlern, denn Risiken sind, anders als in der modernen Finanztheorie unterstellt, keinesfalls genau berechenbar. An ihren Modellen hielten die Expertinnen und Experten dennoch fest, beispielsweise auch nach dem Beinahe-Bankrott des Hedgefonds Long-Term Capital Management (LTCM) im Jahr 1998. Dabei handelt es sich hierbei gemäß den genannten Modellen um ein „Ereignis“, das, statistisch betrachtet, nur einmal alle drei Milliarden Jahre eintreten sollte. Und das Ereignis war beileibe kein Einzelfall.\"\n",
    "\n",
    "\n",
    "# sample_text = \"Was weiß ChatGPT über mich? Das interessierte den Norweger Arve Hjalmar Holmen, als er - wie viele andere auch - seinen Namen ins Suchfenster des KI-Chatbots eintippte. Das Ergebnis war erschreckend: ChatGPT stellte den Beschwerdeführer als Mörder seiner eigenen Kinder dar. Er habe zwei Kinder ermordet und versucht, seinen dritten Sohn zu töten. Die Geschichte war erfunden, ChatGPT mischte aber reale Elemente aus Holmens Leben dazu. Anzahl und Geschlecht der Kinder stimmten, ebenso der Name seiner Heimatstadt. „Die Tatsache, dass jemand diese Inhalte lesen und für wahr halten könnte, macht mir am meisten Angst“, erzählt Holmen.\"\n",
    "\n",
    "# sample_text = article_df[\"text_cleaned\"].tolist()[0]"
   ],
   "outputs": [],
   "execution_count": 36
  },
  {
   "metadata": {
    "jupyter": {
     "is_executing": true
    },
    "ExecuteTime": {
     "start_time": "2025-03-20T19:39:44.086667Z"
    }
   },
   "cell_type": "code",
   "source": [
    "# classifier = pipeline(\"zero-shot-classification\", model=\"facebook/bart-large-mnli\")\n",
    "\n",
    "# german model\n",
    "classifier = pipeline(\"zero-shot-classification\", model=\"joeddav/xlm-roberta-large-xnli\")\n",
    "\n",
    "classifier(sample_text, candidate_labels, multi_label=False, clean_up_tokenization_spaces=False)"
   ],
   "outputs": [
    {
     "data": {
      "text/plain": [
       "config.json:   0%|          | 0.00/734 [00:00<?, ?B/s]"
      ],
      "application/vnd.jupyter.widget-view+json": {
       "version_major": 2,
       "version_minor": 0,
       "model_id": "c2d6f60245004ad5a8eed37c52b65400"
      }
     },
     "metadata": {},
     "output_type": "display_data"
    },
    {
     "name": "stderr",
     "output_type": "stream",
     "text": [
      "C:\\Users\\Felix\\miniforge3\\lib\\site-packages\\huggingface_hub\\file_download.py:159: UserWarning: `huggingface_hub` cache-system uses symlinks by default to efficiently store duplicated files but your machine does not support them in C:\\Users\\Felix\\.cache\\huggingface\\hub\\models--joeddav--xlm-roberta-large-xnli. Caching files will still work but in a degraded version that might require more space on your disk. This warning can be disabled by setting the `HF_HUB_DISABLE_SYMLINKS_WARNING` environment variable. For more details, see https://huggingface.co/docs/huggingface_hub/how-to-cache#limitations.\n",
      "To support symlinks on Windows, you either need to activate Developer Mode or to run Python as an administrator. In order to see activate developer mode, see this article: https://docs.microsoft.com/en-us/windows/apps/get-started/enable-your-device-for-development\n",
      "  warnings.warn(message)\n"
     ]
    },
    {
     "data": {
      "text/plain": [
       "model.safetensors:   0%|          | 0.00/2.24G [00:00<?, ?B/s]"
      ],
      "application/vnd.jupyter.widget-view+json": {
       "version_major": 2,
       "version_minor": 0,
       "model_id": "f896b837516348828d09541555d7ea37"
      }
     },
     "metadata": {},
     "output_type": "display_data"
    }
   ],
   "execution_count": null
  },
  {
   "cell_type": "code",
   "execution_count": 6,
   "metadata": {},
   "outputs": [],
   "source": [
    "def process_article(filename: str, with_tags: bool = True, tags_type: ('llm', 'keywords') = 'keywords'):\n",
    "    \"\"\"\n",
    "    Process an article and return its metadata.\n",
    "    :param filename: The name of the article file.\n",
    "    :param with_tags: Whether to include tags in the metadata.\n",
    "    :param tags_type: The type of tags to include in the metadata.\n",
    "    :return: The metadata of the article.\n",
    "    \"\"\"    \n",
    "    article_path = os.path.join(ARTICLES_CLEAN_DIR, filename)\n",
    "    with open(article_path, \"r\", encoding=\"utf-8\") as file:\n",
    "        article = json.load(file)\n",
    "    \n",
    "    # Create static metadata for the article\n",
    "    article_metadata = create_static_metadata(article, filename)\n",
    "    \n",
    "    if with_tags:\n",
    "        if tags_type == 'llm':\n",
    "            # Prepare the prompt for the LLM using the article's text\n",
    "            tags_prompt = get_metadata_prompt()\n",
    "            query = tags_prompt.format(article_text=article[\"text\"])\n",
    "            \n",
    "            # Invoke the LLM with structured output to extract tags\n",
    "            llm = llm_client.with_structured_output(ArticleTags)\n",
    "            response = llm.invoke([query])\n",
    "            tags = response.tags\n",
    "        elif tags_type == 'keywords':\n",
    "            keywords = keywords_dict()\n",
    "            tags = create_keywords_tags_fuzzy(article[\"text\"], keywords)\n",
    "        else:\n",
    "            raise ValueError(f\"Invalid tags_type: {tags_type}. Must be ('llm', 'keywords').\")\n",
    "    else:\n",
    "        tags = []\n",
    "    \n",
    "    article_metadata[\"tags\"] = tags\n",
    "    return article_metadata"
   ]
  },
  {
   "cell_type": "code",
   "execution_count": 7,
   "metadata": {},
   "outputs": [
    {
     "name": "stderr",
     "output_type": "stream",
     "text": [
      "100%|██████████| 87754/87754 [1:19:56<00:00, 18.30it/s]  \n"
     ]
    }
   ],
   "source": [
    "# List all cleaned article files\n",
    "articles = os.listdir(ARTICLES_CLEAN_DIR)\n",
    "metadata = []\n",
    "\n",
    "# Adjust the max_workers based on available resources (None is max)\n",
    "with ThreadPoolExecutor(max_workers=None) as executor:\n",
    "    futures = {executor.submit(process_article, filename): filename for filename in articles}\n",
    "    for future in tqdm(as_completed(futures), total=len(futures)):\n",
    "        try:\n",
    "            result = future.result()\n",
    "            metadata.append(result)\n",
    "        except Exception as e:\n",
    "            print(f\"Error processing file {futures[future]}: {e}\")\n",
    "\n",
    "\n",
    "df_metadata = pd.DataFrame(metadata)\n",
    "df_metadata.to_csv(METADATA_PATH, index=False)"
   ]
  },
  {
   "cell_type": "code",
   "execution_count": 8,
   "metadata": {},
   "outputs": [
    {
     "data": {
      "text/plain": [
       "count    87754.000000\n",
       "mean       511.983670\n",
       "std        351.851569\n",
       "min          1.000000\n",
       "25%        281.000000\n",
       "50%        422.000000\n",
       "75%        632.000000\n",
       "max       5931.000000\n",
       "Name: words_count, dtype: float64"
      ]
     },
     "execution_count": 8,
     "metadata": {},
     "output_type": "execute_result"
    }
   ],
   "source": [
    "# Articles length statistics\n",
    "df_metadata[\"words_count\"].describe()"
   ]
  },
  {
   "cell_type": "markdown",
   "metadata": {},
   "source": [
    "Categories by WZ"
   ]
  },
  {
   "cell_type": "code",
   "execution_count": 9,
   "metadata": {},
   "outputs": [
    {
     "data": {
      "text/plain": [
       "count       87754\n",
       "unique         47\n",
       "top       Politik\n",
       "freq        31919\n",
       "Name: category, dtype: object"
      ]
     },
     "execution_count": 9,
     "metadata": {},
     "output_type": "execute_result"
    }
   ],
   "source": [
    "df_metadata[\"category\"].describe()"
   ]
  },
  {
   "cell_type": "code",
   "execution_count": 10,
   "metadata": {},
   "outputs": [
    {
     "data": {
      "text/plain": [
       "category\n",
       "Politik                                  31919\n",
       "Wirtschaft                               16512\n",
       "Kommentare                               11408\n",
       "Gastkommentare                            7253\n",
       "Wissen                                    5632\n",
       "Europaarchiv                              5341\n",
       "Leitartikel                               3292\n",
       "Analysen                                  2478\n",
       "Reflexionen                               2308\n",
       "Recht                                      652\n",
       "Auf Justitias Spuren                       196\n",
       "Leserforum                                 170\n",
       "Klimawandel                                 52\n",
       "Wiener Zeitung - seit 1703                  47\n",
       "Sterbehilfe                                 44\n",
       "1914                                        39\n",
       "100 Jahre Republik                          38\n",
       "Stadtentwicklung                            28\n",
       "Wald                                        27\n",
       "100 Jahre Verfassung                        26\n",
       "EU für mich                                 26\n",
       "Asyl                                        26\n",
       "Frauentag                                   24\n",
       "Artenschutz                                 22\n",
       "Raumfahrt                                   22\n",
       "Gesundheitspolitik                          20\n",
       "Februar 1934                                16\n",
       "Gehirn                                      15\n",
       "Autismus                                    14\n",
       "Sand                                        14\n",
       "Ars Electronica                             11\n",
       "Ibiza-U-Ausschuss                           11\n",
       "Römische Verträge                           10\n",
       "Raumvisionen                                 9\n",
       "Genozid an Armeniern                         8\n",
       "Novemberpogrome                              7\n",
       "9/11                                         6\n",
       "Tschernobyl                                  6\n",
       "Das Beet                                     5\n",
       "310 Jahre Wiener Zeitung                     5\n",
       "70 Jahre Israel                              5\n",
       "70 Jahre Befreiung von Auschwitz             3\n",
       "Transgender                                  3\n",
       "Bildungsdebatte                              1\n",
       "Kriegsende 1945 - Zeitzeugen erzählen        1\n",
       "Rotes Wien                                   1\n",
       "Direkte Demokratie                           1\n",
       "Name: count, dtype: int64"
      ]
     },
     "execution_count": 10,
     "metadata": {},
     "output_type": "execute_result"
    }
   ],
   "source": [
    "df_metadata[\"category\"].value_counts()"
   ]
  },
  {
   "cell_type": "code",
   "execution_count": 11,
   "metadata": {},
   "outputs": [
    {
     "data": {
      "text/plain": [
       "tags\n",
       "other               73976\n",
       "COVID                5415\n",
       "Fake News            4610\n",
       "Digitalization       1149\n",
       "Demographics          990\n",
       "Innovation            823\n",
       "Financial Crises      612\n",
       "Sustainability        138\n",
       "AI                     37\n",
       "Local Journalism        4\n",
       "Name: count, dtype: int64"
      ]
     },
     "execution_count": 11,
     "metadata": {},
     "output_type": "execute_result"
    }
   ],
   "source": [
    "# Tags statistics (only available if with_tags=True)\n",
    "df_metadata.explode(\"tags\")[\"tags\"].value_counts()"
   ]
  },
  {
   "cell_type": "code",
   "execution_count": 12,
   "metadata": {},
   "outputs": [
    {
     "data": {
      "text/plain": [
       "np.int64(77)"
      ]
     },
     "execution_count": 12,
     "metadata": {},
     "output_type": "execute_result"
    }
   ],
   "source": [
    "# Missing authors\n",
    "df_metadata[\"author\"].isnull().sum()"
   ]
  },
  {
   "cell_type": "markdown",
   "metadata": {},
   "source": [
    "Metadata df"
   ]
  },
  {
   "cell_type": "code",
   "execution_count": 13,
   "metadata": {},
   "outputs": [
    {
     "data": {
      "text/html": [
       "<div>\n",
       "<style scoped>\n",
       "    .dataframe tbody tr th:only-of-type {\n",
       "        vertical-align: middle;\n",
       "    }\n",
       "\n",
       "    .dataframe tbody tr th {\n",
       "        vertical-align: top;\n",
       "    }\n",
       "\n",
       "    .dataframe thead th {\n",
       "        text-align: right;\n",
       "    }\n",
       "</style>\n",
       "<table border=\"1\" class=\"dataframe\">\n",
       "  <thead>\n",
       "    <tr style=\"text-align: right;\">\n",
       "      <th></th>\n",
       "      <th>id</th>\n",
       "      <th>title</th>\n",
       "      <th>author</th>\n",
       "      <th>published_at</th>\n",
       "      <th>words_count</th>\n",
       "      <th>filename</th>\n",
       "      <th>category</th>\n",
       "      <th>section</th>\n",
       "      <th>tags</th>\n",
       "    </tr>\n",
       "  </thead>\n",
       "  <tbody>\n",
       "    <tr>\n",
       "      <th>0</th>\n",
       "      <td>cbbd50ec-c07b-4fcf-b7bf-dd0b7bacc887</td>\n",
       "      <td>100.000 Plätze mehr in zehn Jahren</td>\n",
       "      <td>Alexandra Grass</td>\n",
       "      <td>2003-10-08 00:00</td>\n",
       "      <td>264</td>\n",
       "      <td>100000-platze-mehr-in-zehn-jahren.json</td>\n",
       "      <td>Politik</td>\n",
       "      <td>Nachrichten</td>\n",
       "      <td>other</td>\n",
       "    </tr>\n",
       "    <tr>\n",
       "      <th>1</th>\n",
       "      <td>a0799ad0-f4ed-4989-8c9a-afa6e88677c6</td>\n",
       "      <td>1.700 Lehrlinge ohne Ausbildung</td>\n",
       "      <td>Werner Grotte</td>\n",
       "      <td>2004-10-06 00:00</td>\n",
       "      <td>255</td>\n",
       "      <td>1700-lehrlinge-ohne-ausbildung.json</td>\n",
       "      <td>Wirtschaft</td>\n",
       "      <td>Nachrichten</td>\n",
       "      <td>other</td>\n",
       "    </tr>\n",
       "    <tr>\n",
       "      <th>2</th>\n",
       "      <td>9866b0a2-9c97-4a49-b5c3-d6803a3f9eac</td>\n",
       "      <td>14 Gemeinden erheben schwere Vorwürfe gegen Ra...</td>\n",
       "      <td>Kid Möchel</td>\n",
       "      <td>2011-06-17 18:28</td>\n",
       "      <td>530</td>\n",
       "      <td>14-gemeinden-erheben-schwere-vorwurfe-gegen-ra...</td>\n",
       "      <td>Wirtschaft</td>\n",
       "      <td>Nachrichten</td>\n",
       "      <td>other</td>\n",
       "    </tr>\n",
       "    <tr>\n",
       "      <th>3</th>\n",
       "      <td>1e9ee2dd-f1cc-42c3-a61b-47cd64dd3fca</td>\n",
       "      <td>10.000 syrische Babys - geboren in einem ander...</td>\n",
       "      <td>Maysoon Mohammad Khalaf Al-Hijazat</td>\n",
       "      <td>2017-08-16 13:23</td>\n",
       "      <td>522</td>\n",
       "      <td>10000-syrische-babys-geboren-in-einem-anderen-...</td>\n",
       "      <td>Gastkommentare</td>\n",
       "      <td>Meinung</td>\n",
       "      <td>other</td>\n",
       "    </tr>\n",
       "    <tr>\n",
       "      <th>4</th>\n",
       "      <td>4fe39ec3-426f-4608-9def-225229a4a476</td>\n",
       "      <td>1700 Euro steuerfrei: Was der SPÖ-Plan bringt</td>\n",
       "      <td>Karl Ettinger</td>\n",
       "      <td>2019-08-26 18:14</td>\n",
       "      <td>824</td>\n",
       "      <td>1700-euro-steuerfrei-was-der-spo-plan-bringt.json</td>\n",
       "      <td>Politik</td>\n",
       "      <td>Nachrichten</td>\n",
       "      <td>other</td>\n",
       "    </tr>\n",
       "  </tbody>\n",
       "</table>\n",
       "</div>"
      ],
      "text/plain": [
       "                                     id  \\\n",
       "0  cbbd50ec-c07b-4fcf-b7bf-dd0b7bacc887   \n",
       "1  a0799ad0-f4ed-4989-8c9a-afa6e88677c6   \n",
       "2  9866b0a2-9c97-4a49-b5c3-d6803a3f9eac   \n",
       "3  1e9ee2dd-f1cc-42c3-a61b-47cd64dd3fca   \n",
       "4  4fe39ec3-426f-4608-9def-225229a4a476   \n",
       "\n",
       "                                               title  \\\n",
       "0                 100.000 Plätze mehr in zehn Jahren   \n",
       "1                    1.700 Lehrlinge ohne Ausbildung   \n",
       "2  14 Gemeinden erheben schwere Vorwürfe gegen Ra...   \n",
       "3  10.000 syrische Babys - geboren in einem ander...   \n",
       "4      1700 Euro steuerfrei: Was der SPÖ-Plan bringt   \n",
       "\n",
       "                               author      published_at  words_count  \\\n",
       "0                     Alexandra Grass  2003-10-08 00:00          264   \n",
       "1                       Werner Grotte  2004-10-06 00:00          255   \n",
       "2                          Kid Möchel  2011-06-17 18:28          530   \n",
       "3  Maysoon Mohammad Khalaf Al-Hijazat  2017-08-16 13:23          522   \n",
       "4                       Karl Ettinger  2019-08-26 18:14          824   \n",
       "\n",
       "                                            filename        category  \\\n",
       "0             100000-platze-mehr-in-zehn-jahren.json         Politik   \n",
       "1                1700-lehrlinge-ohne-ausbildung.json      Wirtschaft   \n",
       "2  14-gemeinden-erheben-schwere-vorwurfe-gegen-ra...      Wirtschaft   \n",
       "3  10000-syrische-babys-geboren-in-einem-anderen-...  Gastkommentare   \n",
       "4  1700-euro-steuerfrei-was-der-spo-plan-bringt.json         Politik   \n",
       "\n",
       "       section   tags  \n",
       "0  Nachrichten  other  \n",
       "1  Nachrichten  other  \n",
       "2  Nachrichten  other  \n",
       "3      Meinung  other  \n",
       "4  Nachrichten  other  "
      ]
     },
     "execution_count": 13,
     "metadata": {},
     "output_type": "execute_result"
    }
   ],
   "source": [
    "df_metadata.head(5)"
   ]
  }
 ],
 "metadata": {
  "kernelspec": {
   "display_name": ".venv",
   "language": "python",
   "name": "python3"
  },
  "language_info": {
   "codemirror_mode": {
    "name": "ipython",
    "version": 3
   },
   "file_extension": ".py",
   "mimetype": "text/x-python",
   "name": "python",
   "nbconvert_exporter": "python",
   "pygments_lexer": "ipython3",
   "version": "3.13.1"
  }
 },
 "nbformat": 4,
 "nbformat_minor": 2
}
