{
 "cells": [
  {
   "cell_type": "markdown",
   "metadata": {},
   "source": [
    "# Filtering the dataset\n",
    "\n",
    "Create a small subset of full data"
   ]
  },
  {
   "cell_type": "code",
   "metadata": {
    "ExecuteTime": {
     "end_time": "2025-03-21T10:20:15.253326Z",
     "start_time": "2025-03-21T10:20:14.548187Z"
    }
   },
   "source": [
    "import sys\n",
    "import os\n",
    "import pandas as pd\n",
    "import json\n",
    "\n",
    "module_path = os.path.abspath(os.path.join('..'))\n",
    "if module_path not in sys.path:\n",
    "    sys.path.append(module_path)"
   ],
   "outputs": [],
   "execution_count": 1
  },
  {
   "cell_type": "code",
   "metadata": {
    "ExecuteTime": {
     "end_time": "2025-03-21T11:14:05.835687Z",
     "start_time": "2025-03-21T11:14:05.816291Z"
    }
   },
   "source": [
    "METADATA_PATH = os.path.join(\"..\", \"data\", \"metadata.csv\")\n",
    "ARTICLES_CLEAN_DIR = os.path.join(\"..\", \"data\", \"articles_clean\")\n",
    "\n",
    "FILTERED_METADATA_PATH = os.path.join(\"..\", \"data\", \"filtered_metadata.csv\")"
   ],
   "outputs": [],
   "execution_count": 44
  },
  {
   "cell_type": "markdown",
   "metadata": {},
   "source": [
    "Available metadata fields"
   ]
  },
  {
   "cell_type": "code",
   "metadata": {
    "ExecuteTime": {
     "end_time": "2025-03-21T10:20:35.383993Z",
     "start_time": "2025-03-21T10:20:34.880742Z"
    }
   },
   "source": [
    "metadata = pd.read_csv(METADATA_PATH)\n",
    "metadata[\"published_at\"] = pd.to_datetime(metadata[\"published_at\"])\n",
    "metadata.head()"
   ],
   "outputs": [
    {
     "data": {
      "text/plain": [
       "                                     id                           filename  \\\n",
       "0  948de0b1-b3b7-4c45-b22a-a074d3761cfc      unerbittliche-unvernunft.json   \n",
       "1  d3da5c1b-9f10-4603-a648-d511cee9c14e          englisches-fruhstuck.json   \n",
       "2  a23cee8a-a2e3-43b7-b62b-6e5c3c0f2e87     gewinne-sprudeln-im-osten.json   \n",
       "3  9fa0d59f-06ed-434f-9a7e-aabeff65fcbf   starke-ansage-leere-drohung.json   \n",
       "4  dda1a4cf-76b9-41b0-a637-d0b7e12625d9  wirtschaftspolitik-als-waffe.json   \n",
       "\n",
       "         published_at                                 author  \\\n",
       "0 2010-06-09 18:41:00                        Walter Hämmerle   \n",
       "1 2016-02-17 17:50:00  WZ-Korrespondentin Martyna Czarnowska   \n",
       "2 2008-03-26 18:57:00                            Helmut Dité   \n",
       "3 2015-12-17 18:15:00                      Michael Schmölzer   \n",
       "4 2022-11-14 09:30:00                       Peter De Coensel   \n",
       "\n",
       "                            title        category      section  word_count  \\\n",
       "0        Unerbittliche Unvernunft     Leitartikel      Meinung         284   \n",
       "1            Englisches Frühstück         Politik  Nachrichten         411   \n",
       "2       Gewinne sprudeln im Osten      Wirtschaft  Nachrichten         383   \n",
       "3  Starke Ansage - leere Drohung?         Politik  Nachrichten         766   \n",
       "4    Wirtschaftspolitik als Waffe  Gastkommentare      Meinung         760   \n",
       "\n",
       "   financial_crisis  sustainability  fake_news      ai  digitalization  \\\n",
       "0            0.3870          0.4209     0.3082  0.3251          0.3121   \n",
       "1            0.0158          0.2556     0.3991  0.3030          0.0306   \n",
       "2            0.4757          0.3447     0.2938  0.2853          0.2373   \n",
       "3            0.4811          0.5247     0.4703  0.4721          0.5028   \n",
       "4            0.2336          0.2710     0.1838  0.2259          0.1745   \n",
       "\n",
       "   local_journalism   covid  demographics  innovation  valid_indicator  \n",
       "0            0.3207  0.3231        0.3609      0.3064            False  \n",
       "1            0.1843  0.4453        0.1941      0.1053            False  \n",
       "2            0.2838  0.3346        0.3240      0.3013            False  \n",
       "3            0.4828  0.5063        0.5080      0.4979            False  \n",
       "4            0.1517  0.2287        0.2430      0.1161            False  "
      ],
      "text/html": [
       "<div>\n",
       "<style scoped>\n",
       "    .dataframe tbody tr th:only-of-type {\n",
       "        vertical-align: middle;\n",
       "    }\n",
       "\n",
       "    .dataframe tbody tr th {\n",
       "        vertical-align: top;\n",
       "    }\n",
       "\n",
       "    .dataframe thead th {\n",
       "        text-align: right;\n",
       "    }\n",
       "</style>\n",
       "<table border=\"1\" class=\"dataframe\">\n",
       "  <thead>\n",
       "    <tr style=\"text-align: right;\">\n",
       "      <th></th>\n",
       "      <th>id</th>\n",
       "      <th>filename</th>\n",
       "      <th>published_at</th>\n",
       "      <th>author</th>\n",
       "      <th>title</th>\n",
       "      <th>category</th>\n",
       "      <th>section</th>\n",
       "      <th>word_count</th>\n",
       "      <th>financial_crisis</th>\n",
       "      <th>sustainability</th>\n",
       "      <th>fake_news</th>\n",
       "      <th>ai</th>\n",
       "      <th>digitalization</th>\n",
       "      <th>local_journalism</th>\n",
       "      <th>covid</th>\n",
       "      <th>demographics</th>\n",
       "      <th>innovation</th>\n",
       "      <th>valid_indicator</th>\n",
       "    </tr>\n",
       "  </thead>\n",
       "  <tbody>\n",
       "    <tr>\n",
       "      <th>0</th>\n",
       "      <td>948de0b1-b3b7-4c45-b22a-a074d3761cfc</td>\n",
       "      <td>unerbittliche-unvernunft.json</td>\n",
       "      <td>2010-06-09 18:41:00</td>\n",
       "      <td>Walter Hämmerle</td>\n",
       "      <td>Unerbittliche Unvernunft</td>\n",
       "      <td>Leitartikel</td>\n",
       "      <td>Meinung</td>\n",
       "      <td>284</td>\n",
       "      <td>0.3870</td>\n",
       "      <td>0.4209</td>\n",
       "      <td>0.3082</td>\n",
       "      <td>0.3251</td>\n",
       "      <td>0.3121</td>\n",
       "      <td>0.3207</td>\n",
       "      <td>0.3231</td>\n",
       "      <td>0.3609</td>\n",
       "      <td>0.3064</td>\n",
       "      <td>False</td>\n",
       "    </tr>\n",
       "    <tr>\n",
       "      <th>1</th>\n",
       "      <td>d3da5c1b-9f10-4603-a648-d511cee9c14e</td>\n",
       "      <td>englisches-fruhstuck.json</td>\n",
       "      <td>2016-02-17 17:50:00</td>\n",
       "      <td>WZ-Korrespondentin Martyna Czarnowska</td>\n",
       "      <td>Englisches Frühstück</td>\n",
       "      <td>Politik</td>\n",
       "      <td>Nachrichten</td>\n",
       "      <td>411</td>\n",
       "      <td>0.0158</td>\n",
       "      <td>0.2556</td>\n",
       "      <td>0.3991</td>\n",
       "      <td>0.3030</td>\n",
       "      <td>0.0306</td>\n",
       "      <td>0.1843</td>\n",
       "      <td>0.4453</td>\n",
       "      <td>0.1941</td>\n",
       "      <td>0.1053</td>\n",
       "      <td>False</td>\n",
       "    </tr>\n",
       "    <tr>\n",
       "      <th>2</th>\n",
       "      <td>a23cee8a-a2e3-43b7-b62b-6e5c3c0f2e87</td>\n",
       "      <td>gewinne-sprudeln-im-osten.json</td>\n",
       "      <td>2008-03-26 18:57:00</td>\n",
       "      <td>Helmut Dité</td>\n",
       "      <td>Gewinne sprudeln im Osten</td>\n",
       "      <td>Wirtschaft</td>\n",
       "      <td>Nachrichten</td>\n",
       "      <td>383</td>\n",
       "      <td>0.4757</td>\n",
       "      <td>0.3447</td>\n",
       "      <td>0.2938</td>\n",
       "      <td>0.2853</td>\n",
       "      <td>0.2373</td>\n",
       "      <td>0.2838</td>\n",
       "      <td>0.3346</td>\n",
       "      <td>0.3240</td>\n",
       "      <td>0.3013</td>\n",
       "      <td>False</td>\n",
       "    </tr>\n",
       "    <tr>\n",
       "      <th>3</th>\n",
       "      <td>9fa0d59f-06ed-434f-9a7e-aabeff65fcbf</td>\n",
       "      <td>starke-ansage-leere-drohung.json</td>\n",
       "      <td>2015-12-17 18:15:00</td>\n",
       "      <td>Michael Schmölzer</td>\n",
       "      <td>Starke Ansage - leere Drohung?</td>\n",
       "      <td>Politik</td>\n",
       "      <td>Nachrichten</td>\n",
       "      <td>766</td>\n",
       "      <td>0.4811</td>\n",
       "      <td>0.5247</td>\n",
       "      <td>0.4703</td>\n",
       "      <td>0.4721</td>\n",
       "      <td>0.5028</td>\n",
       "      <td>0.4828</td>\n",
       "      <td>0.5063</td>\n",
       "      <td>0.5080</td>\n",
       "      <td>0.4979</td>\n",
       "      <td>False</td>\n",
       "    </tr>\n",
       "    <tr>\n",
       "      <th>4</th>\n",
       "      <td>dda1a4cf-76b9-41b0-a637-d0b7e12625d9</td>\n",
       "      <td>wirtschaftspolitik-als-waffe.json</td>\n",
       "      <td>2022-11-14 09:30:00</td>\n",
       "      <td>Peter De Coensel</td>\n",
       "      <td>Wirtschaftspolitik als Waffe</td>\n",
       "      <td>Gastkommentare</td>\n",
       "      <td>Meinung</td>\n",
       "      <td>760</td>\n",
       "      <td>0.2336</td>\n",
       "      <td>0.2710</td>\n",
       "      <td>0.1838</td>\n",
       "      <td>0.2259</td>\n",
       "      <td>0.1745</td>\n",
       "      <td>0.1517</td>\n",
       "      <td>0.2287</td>\n",
       "      <td>0.2430</td>\n",
       "      <td>0.1161</td>\n",
       "      <td>False</td>\n",
       "    </tr>\n",
       "  </tbody>\n",
       "</table>\n",
       "</div>"
      ]
     },
     "execution_count": 3,
     "metadata": {},
     "output_type": "execute_result"
    }
   ],
   "execution_count": 3
  },
  {
   "metadata": {},
   "cell_type": "markdown",
   "source": "Analysis"
  },
  {
   "metadata": {
    "ExecuteTime": {
     "end_time": "2025-03-21T10:50:09.123652Z",
     "start_time": "2025-03-21T10:50:09.094580Z"
    }
   },
   "cell_type": "code",
   "source": "metadata[\"category\"].describe()",
   "outputs": [
    {
     "data": {
      "text/plain": [
       "count       87754\n",
       "unique         47\n",
       "top       Politik\n",
       "freq        31919\n",
       "Name: category, dtype: object"
      ]
     },
     "execution_count": 7,
     "metadata": {},
     "output_type": "execute_result"
    }
   ],
   "execution_count": 7
  },
  {
   "metadata": {
    "ExecuteTime": {
     "end_time": "2025-03-21T10:50:09.446795Z",
     "start_time": "2025-03-21T10:50:09.418113Z"
    }
   },
   "cell_type": "code",
   "source": "metadata[\"category\"].value_counts()  # 47 different categories",
   "outputs": [
    {
     "data": {
      "text/plain": [
       "category\n",
       "Politik                                  31919\n",
       "Wirtschaft                               16512\n",
       "Kommentare                               11408\n",
       "Gastkommentare                            7253\n",
       "Wissen                                    5632\n",
       "Europaarchiv                              5341\n",
       "Leitartikel                               3292\n",
       "Analysen                                  2478\n",
       "Reflexionen                               2308\n",
       "Recht                                      652\n",
       "Auf Justitias Spuren                       196\n",
       "Leserforum                                 170\n",
       "Klimawandel                                 52\n",
       "Wiener Zeitung - seit 1703                  47\n",
       "Sterbehilfe                                 44\n",
       "1914                                        39\n",
       "100 Jahre Republik                          38\n",
       "Stadtentwicklung                            28\n",
       "Wald                                        27\n",
       "100 Jahre Verfassung                        26\n",
       "EU für mich                                 26\n",
       "Asyl                                        26\n",
       "Frauentag                                   24\n",
       "Artenschutz                                 22\n",
       "Raumfahrt                                   22\n",
       "Gesundheitspolitik                          20\n",
       "Februar 1934                                16\n",
       "Gehirn                                      15\n",
       "Sand                                        14\n",
       "Autismus                                    14\n",
       "Ars Electronica                             11\n",
       "Ibiza-U-Ausschuss                           11\n",
       "Römische Verträge                           10\n",
       "Raumvisionen                                 9\n",
       "Genozid an Armeniern                         8\n",
       "Novemberpogrome                              7\n",
       "9/11                                         6\n",
       "Tschernobyl                                  6\n",
       "70 Jahre Israel                              5\n",
       "310 Jahre Wiener Zeitung                     5\n",
       "Das Beet                                     5\n",
       "Transgender                                  3\n",
       "70 Jahre Befreiung von Auschwitz             3\n",
       "Rotes Wien                                   1\n",
       "Bildungsdebatte                              1\n",
       "Kriegsende 1945 - Zeitzeugen erzählen        1\n",
       "Direkte Demokratie                           1\n",
       "Name: count, dtype: int64"
      ]
     },
     "execution_count": 8,
     "metadata": {},
     "output_type": "execute_result"
    }
   ],
   "execution_count": 8
  },
  {
   "metadata": {
    "ExecuteTime": {
     "end_time": "2025-03-21T10:50:09.752057Z",
     "start_time": "2025-03-21T10:50:09.737767Z"
    }
   },
   "cell_type": "code",
   "source": "metadata[\"section\"].value_counts()",
   "outputs": [
    {
     "data": {
      "text/plain": [
       "section\n",
       "Nachrichten    56371\n",
       "Meinung        22123\n",
       "Archiv          7931\n",
       "Themen           961\n",
       "Dossiers         368\n",
       "Name: count, dtype: int64"
      ]
     },
     "execution_count": 9,
     "metadata": {},
     "output_type": "execute_result"
    }
   ],
   "execution_count": 9
  },
  {
   "metadata": {
    "ExecuteTime": {
     "end_time": "2025-03-21T10:50:10.010618Z",
     "start_time": "2025-03-21T10:50:09.996801Z"
    }
   },
   "cell_type": "code",
   "source": "metadata[\"word_count\"].describe()",
   "outputs": [
    {
     "data": {
      "text/plain": [
       "count    87754.000000\n",
       "mean       520.058379\n",
       "std        357.316632\n",
       "min          0.000000\n",
       "25%        286.000000\n",
       "50%        428.000000\n",
       "75%        642.000000\n",
       "max       5995.000000\n",
       "Name: word_count, dtype: float64"
      ]
     },
     "execution_count": 10,
     "metadata": {},
     "output_type": "execute_result"
    }
   ],
   "execution_count": 10
  },
  {
   "metadata": {
    "ExecuteTime": {
     "end_time": "2025-03-21T10:50:13.464584Z",
     "start_time": "2025-03-21T10:50:13.451549Z"
    }
   },
   "cell_type": "code",
   "source": [
    "# Missing data\n",
    "metadata[\"author\"].isnull().sum()"
   ],
   "outputs": [
    {
     "data": {
      "text/plain": [
       "1449"
      ]
     },
     "execution_count": 11,
     "metadata": {},
     "output_type": "execute_result"
    }
   ],
   "execution_count": 11
  },
  {
   "cell_type": "markdown",
   "metadata": {},
   "source": [
    "Filter the metadata df according to your needs\n",
    "\n",
    "Hint: Try to not make the dataset too big for processing reasons (try around to get a feeling what your machine can handle)"
   ]
  },
  {
   "cell_type": "code",
   "metadata": {
    "ExecuteTime": {
     "end_time": "2025-03-21T11:16:26.310049Z",
     "start_time": "2025-03-21T11:16:26.299497Z"
    }
   },
   "source": [
    "filtered_metadata = metadata[\n",
    "    # Date\n",
    "    (metadata[\"published_at\"] >= \"2007-01-01\") &\n",
    "    (metadata[\"published_at\"] < \"2012-01-01\") &\n",
    "\n",
    "    # Authors\n",
    "    # (metadata[\"author\"].isin([\"Christine Zeiner\", \"Silke Farmer\"])) &\n",
    "\n",
    "    # Category\n",
    "    # (metadata[\"section\"].isin([\"Politik\", \"Wirtschaft\"])) &  # ('Politik', 'Wirtschaft', 'Kommentare', 'Gastkommentare', 'Wissen', see above for all categories)\n",
    "\n",
    "    # Section\n",
    "    # (metadata[\"section\"].isin([\"Nachrichten\", \"Meinung\"])) &  # ('Meinung', 'Nachrichten', 'Archiv', 'Themen', 'Dossiers')\n",
    "\n",
    "    # Word count\n",
    "    # (metadata[\"word_count\"] >= 100) &\n",
    "\n",
    "    # Tags\n",
    "    (metadata[\"valid_indicator\"]) &  # this is an estimate if the probabilities assigned to the category are actually valid, recommended to use but will reduce the dataset size\n",
    "    (metadata[\"financial_crisis\"] > 0.8) # ('financial_crisis', 'sustainability', 'fake_news', 'ai', 'digitalization', 'local_journalism', 'covid', 'demographics', 'innovation')\n",
    "]\n",
    "print(f\"Expected number of articles: {filtered_metadata.shape[0]}\")"
   ],
   "outputs": [
    {
     "name": "stdout",
     "output_type": "stream",
     "text": [
      "Expected number of articles: 423\n"
     ]
    }
   ],
   "execution_count": 46
  },
  {
   "cell_type": "markdown",
   "metadata": {},
   "source": [
    "Get filtered articles"
   ]
  },
  {
   "cell_type": "code",
   "metadata": {
    "ExecuteTime": {
     "end_time": "2025-03-21T11:04:13.663091Z",
     "start_time": "2025-03-21T11:04:13.650355Z"
    }
   },
   "source": [
    "def filter_articles(filtered_metadata, articles_dir):\n",
    "    \"\"\"\n",
    "    Filter articles based on filtered metadata\n",
    "    \"\"\"\n",
    "    articles = {}\n",
    "    for _, row in filtered_metadata.iterrows():\n",
    "        article_path = os.path.join(articles_dir, row[\"filename\"])\n",
    "        with open(article_path, \"r\", encoding=\"utf-8\") as file:\n",
    "            article = json.load(file)\n",
    "            articles[row[\"filename\"]] = article\n",
    "    return articles"
   ],
   "outputs": [],
   "execution_count": 29
  },
  {
   "metadata": {},
   "cell_type": "code",
   "outputs": [],
   "execution_count": null,
   "source": "filtered_articles = filter_articles(filtered_metadata, ARTICLES_CLEAN_DIR)"
  },
  {
   "cell_type": "code",
   "metadata": {
    "ExecuteTime": {
     "end_time": "2025-03-21T11:19:20.283385Z",
     "start_time": "2025-03-21T11:19:20.271460Z"
    }
   },
   "source": [
    "# Check some articles from that sample\n",
    "sample_id = 0\n",
    "\n",
    "print(f\"Number of articles: {len(filtered_articles)}\\n\")\n",
    "print(f\"Sample article metadata:\\n {filtered_metadata.iloc[sample_id]}\\n\")\n",
    "print(f\"Sample article:\\n {filtered_articles[list(filtered_articles.keys())[sample_id]]}\")"
   ],
   "outputs": [
    {
     "name": "stdout",
     "output_type": "stream",
     "text": [
      "Number of articles: 545\n",
      "\n",
      "Sample article metadata:\n",
      " id                  fd343f2b-736d-4c86-920d-35fc4e3b4a2e\n",
      "filename                      die-gotter-des-geldes.json\n",
      "published_at                         2011-05-10 18:31:00\n",
      "author                                   Reinhard Göweil\n",
      "title                              Die Götter des Geldes\n",
      "category                                     Leitartikel\n",
      "section                                          Meinung\n",
      "word_count                                           326\n",
      "financial_crisis                                  0.8968\n",
      "sustainability                                    0.6328\n",
      "fake_news                                         0.4778\n",
      "ai                                                0.5007\n",
      "digitalization                                     0.351\n",
      "local_journalism                                  0.3519\n",
      "covid                                             0.5301\n",
      "demographics                                      0.5913\n",
      "innovation                                        0.2105\n",
      "valid_indicator                                     True\n",
      "Name: 59, dtype: object\n",
      "\n",
      "Sample article:\n",
      " {'id': 'fd343f2b-736d-4c86-920d-35fc4e3b4a2e', 'published_at': '2011-05-10 18:31', 'author': 'Reinhard Göweil', 'title': 'Die Götter des Geldes', 'category': 'Leitartikel', 'section': 'Meinung', 'text': 'Für Banken ist die Debatte rund um die schwer verschuldeten Länder ein warmer Regen: Sie verdienen köstlich an den Euro-Dollar-Schwankungen sowie an den Zinsen für die Staatsschulden, auch an den Spesen für die Verkäufe solcher Wertpapiere - und an den Kreditausfallversicherungen.\\nDer Clou: Das Motiv für die verzweifelten Bemühungen der EZB, einen Schuldennachlass für das Land zu verhindern, ist es, neue Hilfsmaßnahmen für Banken zu vermeiden. Viele der derart Geschützten hintertreiben so den gewährten Schutz.\\nNun meinte EZB-Direktor Lorenzo Smaghi, dass überschuldete Euro-Länder nicht den Märkten überlassen werden dürften. In der griechischen Tragödie wäre er demnach der Held, der sich gegen die Götter zur Wehr setzt. Die Regenten, sprich: Politiker, dagegen ziehen den Schwanz ein, sie scheinen sich der göttlichen Übermacht zu beugen.\\nSmaghi hat natürlich recht mit dem, was er sagt. Aber die sich daraus logisch ergebenden Maßnahmen finden nicht statt. Die Auflagen, die Griechenland zu erfüllen hat, sind schlicht und ergreifend unrealistisch - waren es schon von Beginn an. Wie soll ein dermaßen geschwächtes Land 2012 wieder in der Lage sein, für sich selbst zu sorgen? Um die Schuldenkrise in Europa zu überwinden, sind 15 bis 20 Jahre notwendig. In Griechenland ist das nicht anders. In so langen Zeiträumen denken die Götter des Geldes aber nicht, daher kommt die Idee, Griechenland von einem Teil der Last zu befreien - die Anleihen also zwischen 30 und 50 Prozent abzuschreiben.\\nDas ist eine Idee. Die andere Idee ist es allerdings, die Märkte zu zwingen, so lange zu warten. In den USA gibt es Dollar-Anleihen mit 30-jähriger Laufzeit: Die Menschen dort haben den Göttern des Geldes ein Schnippchen geschlagen. So lange müssen sie sich gedulden. Und sie tun es.\\nEs sollte also eine einzige EU-Institution für die Schulden aller Euro-Länder zuständig sein - und sehr lange laufende Anleihen verkaufen. Alle Euro-Länder benötigen viel Zeit, um ihre Schulden zu reduzieren, ohne die Bevölkerung über alle Maßen zu strapazieren und zu reizen. Die unsterblichen Götter können warten. Menschen nicht.\\n'}\n"
     ]
    }
   ],
   "execution_count": 47
  },
  {
   "metadata": {
    "ExecuteTime": {
     "end_time": "2025-03-21T11:19:38.698367Z",
     "start_time": "2025-03-21T11:19:35.837879Z"
    }
   },
   "cell_type": "code",
   "source": [
    "# Store the filtered metadata to csv\n",
    "if input(\"Do you want to store (overwrite) the filtered metadata to csv? (y/n): \") == \"y\":\n",
    "    filtered_metadata.to_csv(FILTERED_METADATA_PATH, index=False)"
   ],
   "outputs": [],
   "execution_count": 49
  }
 ],
 "metadata": {
  "kernelspec": {
   "display_name": ".venv",
   "language": "python",
   "name": "python3"
  },
  "language_info": {
   "codemirror_mode": {
    "name": "ipython",
    "version": 3
   },
   "file_extension": ".py",
   "mimetype": "text/x-python",
   "name": "python",
   "nbconvert_exporter": "python",
   "pygments_lexer": "ipython3",
   "version": "3.13.1"
  }
 },
 "nbformat": 4,
 "nbformat_minor": 2
}
