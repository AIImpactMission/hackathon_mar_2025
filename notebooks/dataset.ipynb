{
 "cells": [
  {
   "cell_type": "markdown",
   "metadata": {},
   "source": [
    "### Dataset basic operations"
   ]
  },
  {
   "cell_type": "code",
   "metadata": {
    "ExecuteTime": {
     "end_time": "2025-03-18T21:39:59.469055Z",
     "start_time": "2025-03-18T21:39:59.441127Z"
    }
   },
   "source": [
    "import sys\n",
    "import os\n",
    "import zipfile\n",
    "import json\n",
    "from tqdm import tqdm\n",
    "from concurrent.futures import ThreadPoolExecutor, as_completed\n",
    "\n",
    "module_path = os.path.abspath(os.path.join('..'))\n",
    "if module_path not in sys.path:\n",
    "    sys.path.append(module_path)\n",
    "\n",
    "from src.articles import process_raw_article"
   ],
   "outputs": [],
   "execution_count": 1
  },
  {
   "cell_type": "markdown",
   "metadata": {},
   "source": [
    "Setup the paths to data sources"
   ]
  },
  {
   "cell_type": "code",
   "metadata": {
    "ExecuteTime": {
     "end_time": "2025-03-18T21:40:00.425065Z",
     "start_time": "2025-03-18T21:40:00.421067Z"
    }
   },
   "source": [
    "ARCHIVE_FILENAME = \"2025_02_25_wienerzeitung_archiv.zip\"\n",
    "ARCHIVE_EXTRACT_DIR = os.path.join(\"..\", \"data\", \"articles_raw\")\n",
    "ARTICLES_CLEAN_DIR = os.path.join(\"..\", \"data\", \"articles_clean\")\n",
    "ARTICLES_RAW_DIR = os.path.join(\"..\", \"data\", \"articles_raw\", \"2025_02_25_wienerzeitung_archiv\", \"content\")\n",
    "archive_path = os.path.join(\"..\", \"data\", \"archive\", ARCHIVE_FILENAME)"
   ],
   "outputs": [],
   "execution_count": 2
  },
  {
   "cell_type": "markdown",
   "metadata": {},
   "source": [
    "Extract ZIP archive to raw JSONs"
   ]
  },
  {
   "cell_type": "code",
   "metadata": {
    "ExecuteTime": {
     "end_time": "2025-03-18T21:40:05.270305Z",
     "start_time": "2025-03-18T21:40:03.563182Z"
    }
   },
   "source": [
    "# Extract the archive to the articles directory\n",
    "with zipfile.ZipFile(archive_path, \"r\") as archive:\n",
    "    archive.extractall(ARCHIVE_EXTRACT_DIR)"
   ],
   "outputs": [
    {
     "ename": "KeyboardInterrupt",
     "evalue": "",
     "output_type": "error",
     "traceback": [
      "\u001B[31m---------------------------------------------------------------------------\u001B[39m",
      "\u001B[31mKeyboardInterrupt\u001B[39m                         Traceback (most recent call last)",
      "\u001B[36mCell\u001B[39m\u001B[36m \u001B[39m\u001B[32mIn[4]\u001B[39m\u001B[32m, line 3\u001B[39m\n\u001B[32m      1\u001B[39m \u001B[38;5;66;03m# Extract the archive to the articles directory\u001B[39;00m\n\u001B[32m      2\u001B[39m \u001B[38;5;28;01mwith\u001B[39;00m zipfile.ZipFile(archive_path, \u001B[33m\"\u001B[39m\u001B[33mr\u001B[39m\u001B[33m\"\u001B[39m) \u001B[38;5;28;01mas\u001B[39;00m archive:\n\u001B[32m----> \u001B[39m\u001B[32m3\u001B[39m     \u001B[43marchive\u001B[49m\u001B[43m.\u001B[49m\u001B[43mextractall\u001B[49m\u001B[43m(\u001B[49m\u001B[43mARCHIVE_EXTRACT_DIR\u001B[49m\u001B[43m)\u001B[49m\n",
      "\u001B[36mFile \u001B[39m\u001B[32m~\\AppData\\Roaming\\uv\\python\\cpython-3.13.2-windows-x86_64-none\\Lib\\zipfile\\__init__.py:1780\u001B[39m, in \u001B[36mZipFile.extractall\u001B[39m\u001B[34m(self, path, members, pwd)\u001B[39m\n\u001B[32m   1777\u001B[39m     path = os.fspath(path)\n\u001B[32m   1779\u001B[39m \u001B[38;5;28;01mfor\u001B[39;00m zipinfo \u001B[38;5;129;01min\u001B[39;00m members:\n\u001B[32m-> \u001B[39m\u001B[32m1780\u001B[39m     \u001B[38;5;28;43mself\u001B[39;49m\u001B[43m.\u001B[49m\u001B[43m_extract_member\u001B[49m\u001B[43m(\u001B[49m\u001B[43mzipinfo\u001B[49m\u001B[43m,\u001B[49m\u001B[43m \u001B[49m\u001B[43mpath\u001B[49m\u001B[43m,\u001B[49m\u001B[43m \u001B[49m\u001B[43mpwd\u001B[49m\u001B[43m)\u001B[49m\n",
      "\u001B[36mFile \u001B[39m\u001B[32m~\\AppData\\Roaming\\uv\\python\\cpython-3.13.2-windows-x86_64-none\\Lib\\zipfile\\__init__.py:1841\u001B[39m, in \u001B[36mZipFile._extract_member\u001B[39m\u001B[34m(self, member, targetpath, pwd)\u001B[39m\n\u001B[32m   1837\u001B[39m                 \u001B[38;5;28;01mraise\u001B[39;00m\n\u001B[32m   1838\u001B[39m     \u001B[38;5;28;01mreturn\u001B[39;00m targetpath\n\u001B[32m   1840\u001B[39m \u001B[38;5;28;01mwith\u001B[39;00m \u001B[38;5;28mself\u001B[39m.open(member, pwd=pwd) \u001B[38;5;28;01mas\u001B[39;00m source, \\\n\u001B[32m-> \u001B[39m\u001B[32m1841\u001B[39m      \u001B[38;5;28;43mopen\u001B[39;49m\u001B[43m(\u001B[49m\u001B[43mtargetpath\u001B[49m\u001B[43m,\u001B[49m\u001B[43m \u001B[49m\u001B[33;43m\"\u001B[39;49m\u001B[33;43mwb\u001B[39;49m\u001B[33;43m\"\u001B[39;49m\u001B[43m)\u001B[49m \u001B[38;5;28;01mas\u001B[39;00m target:\n\u001B[32m   1842\u001B[39m     shutil.copyfileobj(source, target)\n\u001B[32m   1844\u001B[39m \u001B[38;5;28;01mreturn\u001B[39;00m targetpath\n",
      "\u001B[31mKeyboardInterrupt\u001B[39m: "
     ]
    }
   ],
   "execution_count": 4
  },
  {
   "cell_type": "code",
   "metadata": {
    "ExecuteTime": {
     "end_time": "2025-03-18T21:40:07.318177Z",
     "start_time": "2025-03-18T21:40:07.148298Z"
    }
   },
   "source": [
    "print(f\"Number of articles in archive: {len(os.listdir(ARTICLES_RAW_DIR))}\")"
   ],
   "outputs": [
    {
     "name": "stdout",
     "output_type": "stream",
     "text": [
      "Number of articles in archive: 87754\n"
     ]
    }
   ],
   "execution_count": 5
  },
  {
   "cell_type": "markdown",
   "metadata": {},
   "source": [
    "Clean the raw JSON to key content"
   ]
  },
  {
   "cell_type": "code",
   "metadata": {
    "ExecuteTime": {
     "end_time": "2025-03-18T21:44:46.545031Z",
     "start_time": "2025-03-18T21:44:09.280416Z"
    }
   },
   "source": [
    "def process_article_file(article_file):\n",
    "    article_path = os.path.join(ARTICLES_RAW_DIR, article_file)\n",
    "    # Read the raw article\n",
    "    with open(article_path, \"r\", encoding=\"utf-8\") as file:\n",
    "        article = json.load(file)\n",
    "    \n",
    "    # Process the article\n",
    "    article_clean = process_raw_article(article)\n",
    "    \n",
    "    # Write the cleaned article\n",
    "    clean_path = os.path.join(ARTICLES_CLEAN_DIR, article_file)\n",
    "    with open(clean_path, \"w\", encoding=\"utf-8\") as file:\n",
    "        json.dump(article_clean, file, indent=4, ensure_ascii=False)\n",
    "    return article_file\n",
    "\n",
    "# Ensure the output directory exists\n",
    "if not os.path.exists(ARTICLES_CLEAN_DIR):\n",
    "    os.makedirs(ARTICLES_CLEAN_DIR)\n",
    "\n",
    "# List of raw article files\n",
    "articles_raw = os.listdir(ARTICLES_RAW_DIR)\n",
    "\n",
    "# Use ThreadPoolExecutor for concurrent processing\n",
    "with ThreadPoolExecutor(max_workers=8) as executor:\n",
    "    futures = {executor.submit(process_article_file, article_file): article_file for article_file in articles_raw}\n",
    "    \n",
    "    for future in tqdm(as_completed(futures), total=len(futures)):\n",
    "        try:\n",
    "            file_name = future.result()\n",
    "        except Exception as e:\n",
    "            print(f\"Error processing {futures[future]}: {e}\")\n"
   ],
   "outputs": [
    {
     "name": "stderr",
     "output_type": "stream",
     "text": [
      "100%|██████████| 87754/87754 [00:35<00:00, 2443.97it/s]\n"
     ]
    }
   ],
   "execution_count": 7
  },
  {
   "cell_type": "markdown",
   "metadata": {},
   "source": [
    "Example of raw article"
   ]
  },
  {
   "cell_type": "code",
   "metadata": {
    "ExecuteTime": {
     "end_time": "2025-03-18T21:45:07.028030Z",
     "start_time": "2025-03-18T21:45:07.019805Z"
    }
   },
   "source": [
    "# Pick 1st article for showcase\n",
    "raw_article_path = os.path.join(ARTICLES_RAW_DIR, articles_raw[0])\n",
    "with open(raw_article_path, \"r\", encoding=\"utf-8\") as file:\n",
    "    raw_article = json.load(file)\n",
    "raw_article"
   ],
   "outputs": [
    {
     "data": {
      "text/plain": [
       "{'name': '007 und die Lizenz zum Verspießern',\n",
       " 'uuid': '56b42350-1307-421b-8394-5fa2d55f21f5',\n",
       " 'full_slug': 'h/007-und-die-lizenz-zum-verspiessern',\n",
       " 'slug': '007-und-die-lizenz-zum-verspiessern',\n",
       " 'first_published_at': '2017-01-17 16:32',\n",
       " 'content': {'component': 'archiv-inhalt',\n",
       "  'titel': '007 und die Lizenz zum Verspießern',\n",
       "  'excerpt': {'type': 'doc', 'content': []},\n",
       "  'autor': 'Christoph Irrgeher',\n",
       "  'oldId': 868490,\n",
       "  'category': {'name': 'Kommentare',\n",
       "   'full_slug': 'hr/kommentare',\n",
       "   'content': {'parent': 'Meinung'}},\n",
       "  'inhalt': {'type': 'doc',\n",
       "   'content': [{'type': 'paragraph',\n",
       "     'content': [{'text': 'Neuseeländische Forscher schlagen Alarm: James Bond, heißt es in einem Aufsatz, der sich den Agenten in der \"echten\" Welt vorstellt, sei massiv bedroht.',\n",
       "       'type': 'text',\n",
       "       'marks': []},\n",
       "      {'type': 'hard_break'},\n",
       "      {'type': 'hard_break'},\n",
       "      {'text': 'Das wirkt nicht neu. Immerhin ist 007 chronisch von Superbösen umgeben - Düsterlingen, die den britischen Strahlemann wahlweise zersägen, erdolchen, ertränken, erschießen, kastrieren oder lobotomieren wollen.',\n",
       "       'type': 'text',\n",
       "       'marks': []},\n",
       "      {'type': 'hard_break'},\n",
       "      {'type': 'hard_break'},\n",
       "      {'text': 'Die Wissenschafter aber kommen zu einem ganz anderen Befund: Es seien seine Laster, die Bond bedrohen. Erstens der Alkohol. Und zweitens, kein Witz!, das Passivrauchen. Den Tabakgenuss hat sich Bond zwar schon vor Jahrzehnten abgewöhnt. Sein Umfeld - Schurken, Schergen, Schafzimmerschönheiten - neigt der Zigarette aber immer noch zu, und dieser Dunst dämpfe seine Lebenserwartung. Womit wir bei der (nicht ganz neuen) Kernbotschaft des neuseeländischen Artikels wären: Es sei ein Übel, dass in Bond-Filmen immer noch geraucht werde, denn die Jugend nehme sich daran ein Beispiel und dann . . . bla.',\n",
       "       'type': 'text',\n",
       "       'marks': []},\n",
       "      {'type': 'hard_break'},\n",
       "      {'type': 'hard_break'},\n",
       "      {'text': 'Nun ist es löblich, gesundheitsschädliches Verhalten einzudämmen. Die Neuseeländer mögen sich aber bitte fragen, ',\n",
       "       'type': 'text',\n",
       "       'marks': []},\n",
       "      {'text': 'warum', 'type': 'text', 'marks': [{'type': 'italic'}]},\n",
       "      {'text': ' James Bond beliebt ist. Weil er einen geregelten, gesunden, monogamen, cholesterinarmen, nachhaltigen, politisch korrekten, kurz: ',\n",
       "       'type': 'text',\n",
       "       'marks': []},\n",
       "      {'text': 'langweiligen', 'type': 'text', 'marks': [{'type': 'italic'}]},\n",
       "      {'text': ' Lebensstil pflegt? Oder weil er jener Mann ist, der uns allen eine fiktive Kompensation verschafft für unser weitgehend beschauliches Leben? Freilich: Dieses unspektakuläre Dasein garantiert sozialen Frieden, und der ist kostbar. Man möge uns aber bitte nicht das Ventil Bond nehmen. Es gibt - siehe Politik - bei weitem schlimmere.',\n",
       "       'type': 'text',\n",
       "       'marks': []}]}]},\n",
       "  'aufmacher': []}}"
      ]
     },
     "execution_count": 8,
     "metadata": {},
     "output_type": "execute_result"
    }
   ],
   "execution_count": 8
  },
  {
   "cell_type": "markdown",
   "metadata": {},
   "source": [
    "Example of cleaned article"
   ]
  },
  {
   "cell_type": "code",
   "metadata": {
    "ExecuteTime": {
     "end_time": "2025-03-18T21:51:41.563485Z",
     "start_time": "2025-03-18T21:51:41.403681Z"
    }
   },
   "source": [
    "articles_clean = os.listdir(ARTICLES_CLEAN_DIR)\n",
    "sample_article = articles_clean[1000]\n",
    "sample_article_path = os.path.join(ARTICLES_CLEAN_DIR, sample_article)\n",
    "\n",
    "with open(sample_article_path, \"r\", encoding=\"utf-8\") as file:\n",
    "    sample_article = json.load(file)\n",
    "\n",
    "for key, value in sample_article.items():\n",
    "    print(f\"{key}: {value} \\n\")"
   ],
   "outputs": [
    {
     "name": "stdout",
     "output_type": "stream",
     "text": [
      "id: 0922f937-1922-404f-9e9e-27c066084743 \n",
      "\n",
      "published_at: 2023-04-14 16:27 \n",
      "\n",
      "author: Walter Hämmerle \n",
      "\n",
      "title: Absage an den Endkampf \n",
      "\n",
      "category: Leitartikel \n",
      "\n",
      "ressort: Meinung \n",
      "\n",
      "text: Weil jetzt ziemlich viele Menschen - oder besser gesagt: viele Linke, die sich oft und lang in den Sozialen Medien aufhalten - begeistert sind von der Art, wie Andreas Babler seine Ideen für Politik kommuniziert: Die Moderne beginnt als Erzählung von Selbstermächtigung und Anmaßung, heute wird sie von vielen als Gefühl der Überforderung erlebt, bei den sachlichen Herausforderungen, aber durchaus auch beim Umgang der Medien mit diesen Themen. \"Overnewsed but underinformed\", und das schon seit Jahrzehnten.\n",
      "Von der Politik erwarten sich trotzdem die meisten Menschen, dass sie das Steuerrad der ständigen Veränderung fest in Händen hält. Kein Wunder, bemüht sich die Politik doch nach Kräften, exakt diesen Eindruck zu vermitteln, dabei ist sie selbst Getriebene der Entwicklungen von unten wie oben, auf die es zu reagieren gilt. Das ist keine Kritik, sondern eine Beobachtung der Realität.\n",
      "Natürlich verfügt die Politik ungebrochen über erhebliche, teils sogar erstaunliche Gestaltungskraft, aber die Mühlen demokratischer Verfahren mahlen langsam, Veränderung ist ein Prozess vieler sehr kleiner und ganz weniger größerer Schritte. Das ist eine Stärke, denn zur Demokratie gehört auch, dass keine Mehrheit Entscheidungen treffen soll, die von einer neuen Mehrheit nicht wieder rückgängig gemacht werden können. Das mag in manchen Ohren skandalös klingen, ist aber in Wirklichkeit die Voraussetzung dafür, dass die Minderheit ihre Niederlage bei Wahlen auch akzeptiert. Eben weil die Chance für neue Mehrheiten bei den nächsten Wahlen immer lebt.\n",
      "Eine ideale Demokratie, so schrieb der kluge bulgarische Politikwissenschafter Ivan Krastev kürzlich in der \"Financial Times\", verwandelt Apathie in Interesse an den öffentlichen Angelegenheiten und wirkt mäßigend auf den Eifer der Zeloten. Das funktioniert aber nur, wenn nicht bei jeder Wahl das ganze Schicksal auf dem Spiel steht. Einzelne Politiker und ganze Parteien sollten deshalb tunlichst vermeiden, ihren Anhängern oder potenziellen Wählern diesen Eindruck zu vermitteln.\n",
      "Die Wahrheit über die Mühen des Regierens gilt dagegen als unvermittelbar, ja geradezu als unzeitgemäß und hoffnungslos rückständig. Auch deshalb sind sämtliche Versprechen eines \"neuen Regierens\" so verführerisch, fast egal, aus welcher Ecke sie kommen. Silicon Valley mit seinen Übermenschen ist kein \"role model\" für die liberale Demokratie mit ihren selbstauferlegten Beschränkungen.\n",
      "Guter Journalismus, der derzeit nicht nur in Österreich wirtschaftlich durch ein tiefes Tal der Tränen geht, sollte das vermitteln.\n",
      " \n",
      "\n"
     ]
    }
   ],
   "execution_count": 17
  }
 ],
 "metadata": {
  "kernelspec": {
   "display_name": ".venv",
   "language": "python",
   "name": "python3"
  },
  "language_info": {
   "codemirror_mode": {
    "name": "ipython",
    "version": 3
   },
   "file_extension": ".py",
   "mimetype": "text/x-python",
   "name": "python",
   "nbconvert_exporter": "python",
   "pygments_lexer": "ipython3",
   "version": "3.13.1"
  }
 },
 "nbformat": 4,
 "nbformat_minor": 2
}
